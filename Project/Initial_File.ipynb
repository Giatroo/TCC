{
 "cells": [
  {
   "cell_type": "code",
   "execution_count": 1,
   "metadata": {},
   "outputs": [],
   "source": [
    "import pandas as pd\n",
    "from sentence_transformers import (\n",
    "    SentenceTransformer,\n",
    "    SentencesDataset,\n",
    "    losses,\n",
    "    CrossEncoder,\n",
    ")\n",
    "from torch.utils.data import DataLoader\n",
    "from sentence_transformers import InputExample\n",
    "\n",
    "import utils"
   ]
  },
  {
   "cell_type": "code",
   "execution_count": 2,
   "metadata": {},
   "outputs": [
    {
     "data": {
      "text/plain": [
       "'4.18.0'"
      ]
     },
     "execution_count": 2,
     "metadata": {},
     "output_type": "execute_result"
    }
   ],
   "source": [
    "import transformers\n",
    "transformers.__version__"
   ]
  },
  {
   "cell_type": "code",
   "execution_count": 3,
   "metadata": {},
   "outputs": [
    {
     "data": {
      "text/plain": [
       "'2.2.0'"
      ]
     },
     "execution_count": 3,
     "metadata": {},
     "output_type": "execute_result"
    }
   ],
   "source": [
    "import sentence_transformers\n",
    "sentence_transformers.__version__"
   ]
  },
  {
   "cell_type": "code",
   "execution_count": 4,
   "metadata": {},
   "outputs": [],
   "source": [
    "dataset_path = utils.get_global_vars()[\"dataset_path\"]\n",
    "train_df = pd.read_csv(f\"{dataset_path}/balanced_unhashed_train_df.csv\")\n",
    "test_df = pd.read_csv(f\"{dataset_path}/balanced_unhashed_test_df.csv\")"
   ]
  },
  {
   "cell_type": "code",
   "execution_count": 5,
   "metadata": {},
   "outputs": [],
   "source": [
    "train_df = train_df.dropna()"
   ]
  },
  {
   "cell_type": "code",
   "execution_count": 6,
   "metadata": {},
   "outputs": [
    {
     "name": "stdout",
     "output_type": "stream",
     "text": [
      "False\n",
      "False\n"
     ]
    }
   ],
   "source": [
    "print(any((train_df['answer1_label'] != 0) & (train_df['answer1_label'] != 1)))\n",
    "print(any((train_df['answer2_label'] != 0) & (train_df['answer2_label'] != 1)))"
   ]
  },
  {
   "cell_type": "code",
   "execution_count": 7,
   "metadata": {},
   "outputs": [
    {
     "data": {
      "text/plain": [
       "comment_text      I've been searching for the answer for this fo...\n",
       "comment_author                                             hans1193\n",
       "comment_score                                                   194\n",
       "answer1_text                          Religion must have the answer\n",
       "answer1_author                                              Reedzit\n",
       "answer1_score                                                     3\n",
       "answer2_text      It's obviously tracks from a giant water tract...\n",
       "answer2_author                                              adaminc\n",
       "answer2_score                                                     1\n",
       "subreddit                                                   science\n",
       "answer1_label                                                     1\n",
       "answer2_label                                                     0\n",
       "Name: 0, dtype: object"
      ]
     },
     "execution_count": 7,
     "metadata": {},
     "output_type": "execute_result"
    }
   ],
   "source": [
    "index, row = next(train_df.iterrows())\n",
    "row"
   ]
  },
  {
   "cell_type": "code",
   "execution_count": 8,
   "metadata": {},
   "outputs": [
    {
     "name": "stderr",
     "output_type": "stream",
     "text": [
      "Some weights of the model checkpoint at microsoft/deberta-base were not used when initializing DebertaForSequenceClassification: ['lm_predictions.lm_head.dense.bias', 'lm_predictions.lm_head.LayerNorm.bias', 'lm_predictions.lm_head.bias', 'lm_predictions.lm_head.dense.weight', 'lm_predictions.lm_head.LayerNorm.weight']\n",
      "- This IS expected if you are initializing DebertaForSequenceClassification from the checkpoint of a model trained on another task or with another architecture (e.g. initializing a BertForSequenceClassification model from a BertForPreTraining model).\n",
      "- This IS NOT expected if you are initializing DebertaForSequenceClassification from the checkpoint of a model that you expect to be exactly identical (initializing a BertForSequenceClassification model from a BertForSequenceClassification model).\n",
      "Some weights of DebertaForSequenceClassification were not initialized from the model checkpoint at microsoft/deberta-base and are newly initialized: ['pooler.dense.weight', 'pooler.dense.bias', 'classifier.bias', 'classifier.weight']\n",
      "You should probably TRAIN this model on a down-stream task to be able to use it for predictions and inference.\n"
     ]
    },
    {
     "data": {
      "application/vnd.jupyter.widget-view+json": {
       "model_id": "d790f12c2cbf457da06bb3d6c5689466",
       "version_major": 2,
       "version_minor": 0
      },
      "text/plain": [
       "  0%|          | 0/1000 [00:00<?, ?it/s]"
      ]
     },
     "metadata": {},
     "output_type": "display_data"
    }
   ],
   "source": [
    "from tqdm.notebook import tqdm\n",
    "\n",
    "model = CrossEncoder(\"microsoft/deberta-base\", num_labels=2)\n",
    "\n",
    "train_examples = []\n",
    "for index, row in tqdm(list(train_df.iterrows())):\n",
    "    x = InputExample(\n",
    "        texts = [row[\"comment_text\"], row[\"answer1_text\"]],\n",
    "        label = int(row[\"answer1_label\"])\n",
    "    )\n",
    "    train_examples.append(x)\n",
    "    x = InputExample(\n",
    "        texts = [row[\"comment_text\"], row[\"answer2_text\"]],\n",
    "        label = int(row[\"answer2_label\"])\n",
    "    )\n",
    "    train_examples.append(x)\n",
    "\n",
    "train_dataset = SentencesDataset(train_examples, model)\n",
    "train_dataloader = DataLoader(train_dataset, shuffle=True, batch_size=16)\n"
   ]
  },
  {
   "cell_type": "code",
   "execution_count": 9,
   "metadata": {},
   "outputs": [
    {
     "name": "stderr",
     "output_type": "stream",
     "text": [
      "/mnt/e/Lucas/_Estudos IME-USP/7_Semestre/Trabalho_de_Conclusão_de_Curso_MAC0499/Project/venv/lib/python3.10/site-packages/transformers/optimization.py:306: FutureWarning: This implementation of AdamW is deprecated and will be removed in a future version. Use the PyTorch implementation torch.optim.AdamW instead, or set `no_deprecation_warning=True` to disable this warning\n",
      "  warnings.warn(\n"
     ]
    },
    {
     "data": {
      "application/vnd.jupyter.widget-view+json": {
       "model_id": "9e592a65d73d46e9873dbf000115b17c",
       "version_major": 2,
       "version_minor": 0
      },
      "text/plain": [
       "Epoch:   0%|          | 0/5 [00:00<?, ?it/s]"
      ]
     },
     "metadata": {},
     "output_type": "display_data"
    },
    {
     "data": {
      "application/vnd.jupyter.widget-view+json": {
       "model_id": "9891ad3b6a554dc08693d66a70afd50a",
       "version_major": 2,
       "version_minor": 0
      },
      "text/plain": [
       "Iteration:   0%|          | 0/125 [00:00<?, ?it/s]"
      ]
     },
     "metadata": {},
     "output_type": "display_data"
    },
    {
     "ename": "RuntimeError",
     "evalue": "CUDA out of memory. Tried to allocate 20.00 MiB (GPU 0; 6.00 GiB total capacity; 4.61 GiB already allocated; 0 bytes free; 4.80 GiB reserved in total by PyTorch) If reserved memory is >> allocated memory try setting max_split_size_mb to avoid fragmentation.  See documentation for Memory Management and PYTORCH_CUDA_ALLOC_CONF",
     "output_type": "error",
     "traceback": [
      "\u001b[0;31m---------------------------------------------------------------------------\u001b[0m",
      "\u001b[0;31mRuntimeError\u001b[0m                              Traceback (most recent call last)",
      "\u001b[1;32m/mnt/e/Lucas/_Estudos IME-USP/7_Semestre/Trabalho_de_Conclusão_de_Curso_MAC0499/Project/Initial_File.ipynb Cell 9'\u001b[0m in \u001b[0;36m<cell line: 1>\u001b[0;34m()\u001b[0m\n\u001b[0;32m----> <a href='vscode-notebook-cell://wsl%2Bubuntu/mnt/e/Lucas/_Estudos%20IME-USP/7_Semestre/Trabalho_de_Conclus%C3%A3o_de_Curso_MAC0499/Project/Initial_File.ipynb#ch0000008vscode-remote?line=0'>1</a>\u001b[0m model\u001b[39m.\u001b[39;49mfit(\n\u001b[1;32m      <a href='vscode-notebook-cell://wsl%2Bubuntu/mnt/e/Lucas/_Estudos%20IME-USP/7_Semestre/Trabalho_de_Conclus%C3%A3o_de_Curso_MAC0499/Project/Initial_File.ipynb#ch0000008vscode-remote?line=1'>2</a>\u001b[0m     train_dataloader\u001b[39m=\u001b[39;49mtrain_dataloader,\n\u001b[1;32m      <a href='vscode-notebook-cell://wsl%2Bubuntu/mnt/e/Lucas/_Estudos%20IME-USP/7_Semestre/Trabalho_de_Conclus%C3%A3o_de_Curso_MAC0499/Project/Initial_File.ipynb#ch0000008vscode-remote?line=2'>3</a>\u001b[0m     \u001b[39m# evaluator=evaluator,\u001b[39;49;00m\n\u001b[1;32m      <a href='vscode-notebook-cell://wsl%2Bubuntu/mnt/e/Lucas/_Estudos%20IME-USP/7_Semestre/Trabalho_de_Conclus%C3%A3o_de_Curso_MAC0499/Project/Initial_File.ipynb#ch0000008vscode-remote?line=3'>4</a>\u001b[0m     \n\u001b[1;32m      <a href='vscode-notebook-cell://wsl%2Bubuntu/mnt/e/Lucas/_Estudos%20IME-USP/7_Semestre/Trabalho_de_Conclus%C3%A3o_de_Curso_MAC0499/Project/Initial_File.ipynb#ch0000008vscode-remote?line=4'>5</a>\u001b[0m     epochs\u001b[39m=\u001b[39;49m\u001b[39m5\u001b[39;49m,\n\u001b[1;32m      <a href='vscode-notebook-cell://wsl%2Bubuntu/mnt/e/Lucas/_Estudos%20IME-USP/7_Semestre/Trabalho_de_Conclus%C3%A3o_de_Curso_MAC0499/Project/Initial_File.ipynb#ch0000008vscode-remote?line=5'>6</a>\u001b[0m     warmup_steps\u001b[39m=\u001b[39;49m\u001b[39m100\u001b[39;49m,\n\u001b[1;32m      <a href='vscode-notebook-cell://wsl%2Bubuntu/mnt/e/Lucas/_Estudos%20IME-USP/7_Semestre/Trabalho_de_Conclus%C3%A3o_de_Curso_MAC0499/Project/Initial_File.ipynb#ch0000008vscode-remote?line=6'>7</a>\u001b[0m )\n",
      "File \u001b[0;32m/mnt/e/Lucas/_Estudos IME-USP/7_Semestre/Trabalho_de_Conclusão_de_Curso_MAC0499/Project/venv/lib/python3.10/site-packages/sentence_transformers/cross_encoder/CrossEncoder.py:204\u001b[0m, in \u001b[0;36mCrossEncoder.fit\u001b[0;34m(self, train_dataloader, evaluator, epochs, loss_fct, activation_fct, scheduler, warmup_steps, optimizer_class, optimizer_params, weight_decay, evaluation_steps, output_path, save_best_model, max_grad_norm, use_amp, callback, show_progress_bar)\u001b[0m\n\u001b[1;32m    <a href='file:///mnt/e/Lucas/_Estudos%20IME-USP/7_Semestre/Trabalho_de_Conclus%C3%A3o_de_Curso_MAC0499/Project/venv/lib/python3.10/site-packages/sentence_transformers/cross_encoder/CrossEncoder.py?line=201'>202</a>\u001b[0m     skip_scheduler \u001b[39m=\u001b[39m scaler\u001b[39m.\u001b[39mget_scale() \u001b[39m!=\u001b[39m scale_before_step\n\u001b[1;32m    <a href='file:///mnt/e/Lucas/_Estudos%20IME-USP/7_Semestre/Trabalho_de_Conclus%C3%A3o_de_Curso_MAC0499/Project/venv/lib/python3.10/site-packages/sentence_transformers/cross_encoder/CrossEncoder.py?line=202'>203</a>\u001b[0m \u001b[39melse\u001b[39;00m:\n\u001b[0;32m--> <a href='file:///mnt/e/Lucas/_Estudos%20IME-USP/7_Semestre/Trabalho_de_Conclus%C3%A3o_de_Curso_MAC0499/Project/venv/lib/python3.10/site-packages/sentence_transformers/cross_encoder/CrossEncoder.py?line=203'>204</a>\u001b[0m     model_predictions \u001b[39m=\u001b[39m \u001b[39mself\u001b[39;49m\u001b[39m.\u001b[39;49mmodel(\u001b[39m*\u001b[39;49m\u001b[39m*\u001b[39;49mfeatures, return_dict\u001b[39m=\u001b[39;49m\u001b[39mTrue\u001b[39;49;00m)\n\u001b[1;32m    <a href='file:///mnt/e/Lucas/_Estudos%20IME-USP/7_Semestre/Trabalho_de_Conclus%C3%A3o_de_Curso_MAC0499/Project/venv/lib/python3.10/site-packages/sentence_transformers/cross_encoder/CrossEncoder.py?line=204'>205</a>\u001b[0m     logits \u001b[39m=\u001b[39m activation_fct(model_predictions\u001b[39m.\u001b[39mlogits)\n\u001b[1;32m    <a href='file:///mnt/e/Lucas/_Estudos%20IME-USP/7_Semestre/Trabalho_de_Conclus%C3%A3o_de_Curso_MAC0499/Project/venv/lib/python3.10/site-packages/sentence_transformers/cross_encoder/CrossEncoder.py?line=205'>206</a>\u001b[0m     \u001b[39mif\u001b[39;00m \u001b[39mself\u001b[39m\u001b[39m.\u001b[39mconfig\u001b[39m.\u001b[39mnum_labels \u001b[39m==\u001b[39m \u001b[39m1\u001b[39m:\n",
      "File \u001b[0;32m/mnt/e/Lucas/_Estudos IME-USP/7_Semestre/Trabalho_de_Conclusão_de_Curso_MAC0499/Project/venv/lib/python3.10/site-packages/torch/nn/modules/module.py:1110\u001b[0m, in \u001b[0;36mModule._call_impl\u001b[0;34m(self, *input, **kwargs)\u001b[0m\n\u001b[1;32m   <a href='file:///mnt/e/Lucas/_Estudos%20IME-USP/7_Semestre/Trabalho_de_Conclus%C3%A3o_de_Curso_MAC0499/Project/venv/lib/python3.10/site-packages/torch/nn/modules/module.py?line=1105'>1106</a>\u001b[0m \u001b[39m# If we don't have any hooks, we want to skip the rest of the logic in\u001b[39;00m\n\u001b[1;32m   <a href='file:///mnt/e/Lucas/_Estudos%20IME-USP/7_Semestre/Trabalho_de_Conclus%C3%A3o_de_Curso_MAC0499/Project/venv/lib/python3.10/site-packages/torch/nn/modules/module.py?line=1106'>1107</a>\u001b[0m \u001b[39m# this function, and just call forward.\u001b[39;00m\n\u001b[1;32m   <a href='file:///mnt/e/Lucas/_Estudos%20IME-USP/7_Semestre/Trabalho_de_Conclus%C3%A3o_de_Curso_MAC0499/Project/venv/lib/python3.10/site-packages/torch/nn/modules/module.py?line=1107'>1108</a>\u001b[0m \u001b[39mif\u001b[39;00m \u001b[39mnot\u001b[39;00m (\u001b[39mself\u001b[39m\u001b[39m.\u001b[39m_backward_hooks \u001b[39mor\u001b[39;00m \u001b[39mself\u001b[39m\u001b[39m.\u001b[39m_forward_hooks \u001b[39mor\u001b[39;00m \u001b[39mself\u001b[39m\u001b[39m.\u001b[39m_forward_pre_hooks \u001b[39mor\u001b[39;00m _global_backward_hooks\n\u001b[1;32m   <a href='file:///mnt/e/Lucas/_Estudos%20IME-USP/7_Semestre/Trabalho_de_Conclus%C3%A3o_de_Curso_MAC0499/Project/venv/lib/python3.10/site-packages/torch/nn/modules/module.py?line=1108'>1109</a>\u001b[0m         \u001b[39mor\u001b[39;00m _global_forward_hooks \u001b[39mor\u001b[39;00m _global_forward_pre_hooks):\n\u001b[0;32m-> <a href='file:///mnt/e/Lucas/_Estudos%20IME-USP/7_Semestre/Trabalho_de_Conclus%C3%A3o_de_Curso_MAC0499/Project/venv/lib/python3.10/site-packages/torch/nn/modules/module.py?line=1109'>1110</a>\u001b[0m     \u001b[39mreturn\u001b[39;00m forward_call(\u001b[39m*\u001b[39;49m\u001b[39minput\u001b[39;49m, \u001b[39m*\u001b[39;49m\u001b[39m*\u001b[39;49mkwargs)\n\u001b[1;32m   <a href='file:///mnt/e/Lucas/_Estudos%20IME-USP/7_Semestre/Trabalho_de_Conclus%C3%A3o_de_Curso_MAC0499/Project/venv/lib/python3.10/site-packages/torch/nn/modules/module.py?line=1110'>1111</a>\u001b[0m \u001b[39m# Do not call functions when jit is used\u001b[39;00m\n\u001b[1;32m   <a href='file:///mnt/e/Lucas/_Estudos%20IME-USP/7_Semestre/Trabalho_de_Conclus%C3%A3o_de_Curso_MAC0499/Project/venv/lib/python3.10/site-packages/torch/nn/modules/module.py?line=1111'>1112</a>\u001b[0m full_backward_hooks, non_full_backward_hooks \u001b[39m=\u001b[39m [], []\n",
      "File \u001b[0;32m/mnt/e/Lucas/_Estudos IME-USP/7_Semestre/Trabalho_de_Conclusão_de_Curso_MAC0499/Project/venv/lib/python3.10/site-packages/transformers/models/deberta/modeling_deberta.py:1181\u001b[0m, in \u001b[0;36mDebertaForSequenceClassification.forward\u001b[0;34m(self, input_ids, attention_mask, token_type_ids, position_ids, inputs_embeds, labels, output_attentions, output_hidden_states, return_dict)\u001b[0m\n\u001b[1;32m   <a href='file:///mnt/e/Lucas/_Estudos%20IME-USP/7_Semestre/Trabalho_de_Conclus%C3%A3o_de_Curso_MAC0499/Project/venv/lib/python3.10/site-packages/transformers/models/deberta/modeling_deberta.py?line=1172'>1173</a>\u001b[0m \u001b[39mr\u001b[39m\u001b[39m\"\"\"\u001b[39;00m\n\u001b[1;32m   <a href='file:///mnt/e/Lucas/_Estudos%20IME-USP/7_Semestre/Trabalho_de_Conclus%C3%A3o_de_Curso_MAC0499/Project/venv/lib/python3.10/site-packages/transformers/models/deberta/modeling_deberta.py?line=1173'>1174</a>\u001b[0m \u001b[39mlabels (`torch.LongTensor` of shape `(batch_size,)`, *optional*):\u001b[39;00m\n\u001b[1;32m   <a href='file:///mnt/e/Lucas/_Estudos%20IME-USP/7_Semestre/Trabalho_de_Conclus%C3%A3o_de_Curso_MAC0499/Project/venv/lib/python3.10/site-packages/transformers/models/deberta/modeling_deberta.py?line=1174'>1175</a>\u001b[0m \u001b[39m    Labels for computing the sequence classification/regression loss. Indices should be in `[0, ...,\u001b[39;00m\n\u001b[1;32m   <a href='file:///mnt/e/Lucas/_Estudos%20IME-USP/7_Semestre/Trabalho_de_Conclus%C3%A3o_de_Curso_MAC0499/Project/venv/lib/python3.10/site-packages/transformers/models/deberta/modeling_deberta.py?line=1175'>1176</a>\u001b[0m \u001b[39m    config.num_labels - 1]`. If `config.num_labels == 1` a regression loss is computed (Mean-Square loss), If\u001b[39;00m\n\u001b[1;32m   <a href='file:///mnt/e/Lucas/_Estudos%20IME-USP/7_Semestre/Trabalho_de_Conclus%C3%A3o_de_Curso_MAC0499/Project/venv/lib/python3.10/site-packages/transformers/models/deberta/modeling_deberta.py?line=1176'>1177</a>\u001b[0m \u001b[39m    `config.num_labels > 1` a classification loss is computed (Cross-Entropy).\u001b[39;00m\n\u001b[1;32m   <a href='file:///mnt/e/Lucas/_Estudos%20IME-USP/7_Semestre/Trabalho_de_Conclus%C3%A3o_de_Curso_MAC0499/Project/venv/lib/python3.10/site-packages/transformers/models/deberta/modeling_deberta.py?line=1177'>1178</a>\u001b[0m \u001b[39m\"\"\"\u001b[39;00m\n\u001b[1;32m   <a href='file:///mnt/e/Lucas/_Estudos%20IME-USP/7_Semestre/Trabalho_de_Conclus%C3%A3o_de_Curso_MAC0499/Project/venv/lib/python3.10/site-packages/transformers/models/deberta/modeling_deberta.py?line=1178'>1179</a>\u001b[0m return_dict \u001b[39m=\u001b[39m return_dict \u001b[39mif\u001b[39;00m return_dict \u001b[39mis\u001b[39;00m \u001b[39mnot\u001b[39;00m \u001b[39mNone\u001b[39;00m \u001b[39melse\u001b[39;00m \u001b[39mself\u001b[39m\u001b[39m.\u001b[39mconfig\u001b[39m.\u001b[39muse_return_dict\n\u001b[0;32m-> <a href='file:///mnt/e/Lucas/_Estudos%20IME-USP/7_Semestre/Trabalho_de_Conclus%C3%A3o_de_Curso_MAC0499/Project/venv/lib/python3.10/site-packages/transformers/models/deberta/modeling_deberta.py?line=1180'>1181</a>\u001b[0m outputs \u001b[39m=\u001b[39m \u001b[39mself\u001b[39;49m\u001b[39m.\u001b[39;49mdeberta(\n\u001b[1;32m   <a href='file:///mnt/e/Lucas/_Estudos%20IME-USP/7_Semestre/Trabalho_de_Conclus%C3%A3o_de_Curso_MAC0499/Project/venv/lib/python3.10/site-packages/transformers/models/deberta/modeling_deberta.py?line=1181'>1182</a>\u001b[0m     input_ids,\n\u001b[1;32m   <a href='file:///mnt/e/Lucas/_Estudos%20IME-USP/7_Semestre/Trabalho_de_Conclus%C3%A3o_de_Curso_MAC0499/Project/venv/lib/python3.10/site-packages/transformers/models/deberta/modeling_deberta.py?line=1182'>1183</a>\u001b[0m     token_type_ids\u001b[39m=\u001b[39;49mtoken_type_ids,\n\u001b[1;32m   <a href='file:///mnt/e/Lucas/_Estudos%20IME-USP/7_Semestre/Trabalho_de_Conclus%C3%A3o_de_Curso_MAC0499/Project/venv/lib/python3.10/site-packages/transformers/models/deberta/modeling_deberta.py?line=1183'>1184</a>\u001b[0m     attention_mask\u001b[39m=\u001b[39;49mattention_mask,\n\u001b[1;32m   <a href='file:///mnt/e/Lucas/_Estudos%20IME-USP/7_Semestre/Trabalho_de_Conclus%C3%A3o_de_Curso_MAC0499/Project/venv/lib/python3.10/site-packages/transformers/models/deberta/modeling_deberta.py?line=1184'>1185</a>\u001b[0m     position_ids\u001b[39m=\u001b[39;49mposition_ids,\n\u001b[1;32m   <a href='file:///mnt/e/Lucas/_Estudos%20IME-USP/7_Semestre/Trabalho_de_Conclus%C3%A3o_de_Curso_MAC0499/Project/venv/lib/python3.10/site-packages/transformers/models/deberta/modeling_deberta.py?line=1185'>1186</a>\u001b[0m     inputs_embeds\u001b[39m=\u001b[39;49minputs_embeds,\n\u001b[1;32m   <a href='file:///mnt/e/Lucas/_Estudos%20IME-USP/7_Semestre/Trabalho_de_Conclus%C3%A3o_de_Curso_MAC0499/Project/venv/lib/python3.10/site-packages/transformers/models/deberta/modeling_deberta.py?line=1186'>1187</a>\u001b[0m     output_attentions\u001b[39m=\u001b[39;49moutput_attentions,\n\u001b[1;32m   <a href='file:///mnt/e/Lucas/_Estudos%20IME-USP/7_Semestre/Trabalho_de_Conclus%C3%A3o_de_Curso_MAC0499/Project/venv/lib/python3.10/site-packages/transformers/models/deberta/modeling_deberta.py?line=1187'>1188</a>\u001b[0m     output_hidden_states\u001b[39m=\u001b[39;49moutput_hidden_states,\n\u001b[1;32m   <a href='file:///mnt/e/Lucas/_Estudos%20IME-USP/7_Semestre/Trabalho_de_Conclus%C3%A3o_de_Curso_MAC0499/Project/venv/lib/python3.10/site-packages/transformers/models/deberta/modeling_deberta.py?line=1188'>1189</a>\u001b[0m     return_dict\u001b[39m=\u001b[39;49mreturn_dict,\n\u001b[1;32m   <a href='file:///mnt/e/Lucas/_Estudos%20IME-USP/7_Semestre/Trabalho_de_Conclus%C3%A3o_de_Curso_MAC0499/Project/venv/lib/python3.10/site-packages/transformers/models/deberta/modeling_deberta.py?line=1189'>1190</a>\u001b[0m )\n\u001b[1;32m   <a href='file:///mnt/e/Lucas/_Estudos%20IME-USP/7_Semestre/Trabalho_de_Conclus%C3%A3o_de_Curso_MAC0499/Project/venv/lib/python3.10/site-packages/transformers/models/deberta/modeling_deberta.py?line=1191'>1192</a>\u001b[0m encoder_layer \u001b[39m=\u001b[39m outputs[\u001b[39m0\u001b[39m]\n\u001b[1;32m   <a href='file:///mnt/e/Lucas/_Estudos%20IME-USP/7_Semestre/Trabalho_de_Conclus%C3%A3o_de_Curso_MAC0499/Project/venv/lib/python3.10/site-packages/transformers/models/deberta/modeling_deberta.py?line=1192'>1193</a>\u001b[0m pooled_output \u001b[39m=\u001b[39m \u001b[39mself\u001b[39m\u001b[39m.\u001b[39mpooler(encoder_layer)\n",
      "File \u001b[0;32m/mnt/e/Lucas/_Estudos IME-USP/7_Semestre/Trabalho_de_Conclusão_de_Curso_MAC0499/Project/venv/lib/python3.10/site-packages/torch/nn/modules/module.py:1110\u001b[0m, in \u001b[0;36mModule._call_impl\u001b[0;34m(self, *input, **kwargs)\u001b[0m\n\u001b[1;32m   <a href='file:///mnt/e/Lucas/_Estudos%20IME-USP/7_Semestre/Trabalho_de_Conclus%C3%A3o_de_Curso_MAC0499/Project/venv/lib/python3.10/site-packages/torch/nn/modules/module.py?line=1105'>1106</a>\u001b[0m \u001b[39m# If we don't have any hooks, we want to skip the rest of the logic in\u001b[39;00m\n\u001b[1;32m   <a href='file:///mnt/e/Lucas/_Estudos%20IME-USP/7_Semestre/Trabalho_de_Conclus%C3%A3o_de_Curso_MAC0499/Project/venv/lib/python3.10/site-packages/torch/nn/modules/module.py?line=1106'>1107</a>\u001b[0m \u001b[39m# this function, and just call forward.\u001b[39;00m\n\u001b[1;32m   <a href='file:///mnt/e/Lucas/_Estudos%20IME-USP/7_Semestre/Trabalho_de_Conclus%C3%A3o_de_Curso_MAC0499/Project/venv/lib/python3.10/site-packages/torch/nn/modules/module.py?line=1107'>1108</a>\u001b[0m \u001b[39mif\u001b[39;00m \u001b[39mnot\u001b[39;00m (\u001b[39mself\u001b[39m\u001b[39m.\u001b[39m_backward_hooks \u001b[39mor\u001b[39;00m \u001b[39mself\u001b[39m\u001b[39m.\u001b[39m_forward_hooks \u001b[39mor\u001b[39;00m \u001b[39mself\u001b[39m\u001b[39m.\u001b[39m_forward_pre_hooks \u001b[39mor\u001b[39;00m _global_backward_hooks\n\u001b[1;32m   <a href='file:///mnt/e/Lucas/_Estudos%20IME-USP/7_Semestre/Trabalho_de_Conclus%C3%A3o_de_Curso_MAC0499/Project/venv/lib/python3.10/site-packages/torch/nn/modules/module.py?line=1108'>1109</a>\u001b[0m         \u001b[39mor\u001b[39;00m _global_forward_hooks \u001b[39mor\u001b[39;00m _global_forward_pre_hooks):\n\u001b[0;32m-> <a href='file:///mnt/e/Lucas/_Estudos%20IME-USP/7_Semestre/Trabalho_de_Conclus%C3%A3o_de_Curso_MAC0499/Project/venv/lib/python3.10/site-packages/torch/nn/modules/module.py?line=1109'>1110</a>\u001b[0m     \u001b[39mreturn\u001b[39;00m forward_call(\u001b[39m*\u001b[39;49m\u001b[39minput\u001b[39;49m, \u001b[39m*\u001b[39;49m\u001b[39m*\u001b[39;49mkwargs)\n\u001b[1;32m   <a href='file:///mnt/e/Lucas/_Estudos%20IME-USP/7_Semestre/Trabalho_de_Conclus%C3%A3o_de_Curso_MAC0499/Project/venv/lib/python3.10/site-packages/torch/nn/modules/module.py?line=1110'>1111</a>\u001b[0m \u001b[39m# Do not call functions when jit is used\u001b[39;00m\n\u001b[1;32m   <a href='file:///mnt/e/Lucas/_Estudos%20IME-USP/7_Semestre/Trabalho_de_Conclus%C3%A3o_de_Curso_MAC0499/Project/venv/lib/python3.10/site-packages/torch/nn/modules/module.py?line=1111'>1112</a>\u001b[0m full_backward_hooks, non_full_backward_hooks \u001b[39m=\u001b[39m [], []\n",
      "File \u001b[0;32m/mnt/e/Lucas/_Estudos IME-USP/7_Semestre/Trabalho_de_Conclusão_de_Curso_MAC0499/Project/venv/lib/python3.10/site-packages/transformers/models/deberta/modeling_deberta.py:954\u001b[0m, in \u001b[0;36mDebertaModel.forward\u001b[0;34m(self, input_ids, attention_mask, token_type_ids, position_ids, inputs_embeds, output_attentions, output_hidden_states, return_dict)\u001b[0m\n\u001b[1;32m    <a href='file:///mnt/e/Lucas/_Estudos%20IME-USP/7_Semestre/Trabalho_de_Conclus%C3%A3o_de_Curso_MAC0499/Project/venv/lib/python3.10/site-packages/transformers/models/deberta/modeling_deberta.py?line=943'>944</a>\u001b[0m     token_type_ids \u001b[39m=\u001b[39m torch\u001b[39m.\u001b[39mzeros(input_shape, dtype\u001b[39m=\u001b[39mtorch\u001b[39m.\u001b[39mlong, device\u001b[39m=\u001b[39mdevice)\n\u001b[1;32m    <a href='file:///mnt/e/Lucas/_Estudos%20IME-USP/7_Semestre/Trabalho_de_Conclus%C3%A3o_de_Curso_MAC0499/Project/venv/lib/python3.10/site-packages/transformers/models/deberta/modeling_deberta.py?line=945'>946</a>\u001b[0m embedding_output \u001b[39m=\u001b[39m \u001b[39mself\u001b[39m\u001b[39m.\u001b[39membeddings(\n\u001b[1;32m    <a href='file:///mnt/e/Lucas/_Estudos%20IME-USP/7_Semestre/Trabalho_de_Conclus%C3%A3o_de_Curso_MAC0499/Project/venv/lib/python3.10/site-packages/transformers/models/deberta/modeling_deberta.py?line=946'>947</a>\u001b[0m     input_ids\u001b[39m=\u001b[39minput_ids,\n\u001b[1;32m    <a href='file:///mnt/e/Lucas/_Estudos%20IME-USP/7_Semestre/Trabalho_de_Conclus%C3%A3o_de_Curso_MAC0499/Project/venv/lib/python3.10/site-packages/transformers/models/deberta/modeling_deberta.py?line=947'>948</a>\u001b[0m     token_type_ids\u001b[39m=\u001b[39mtoken_type_ids,\n\u001b[0;32m   (...)\u001b[0m\n\u001b[1;32m    <a href='file:///mnt/e/Lucas/_Estudos%20IME-USP/7_Semestre/Trabalho_de_Conclus%C3%A3o_de_Curso_MAC0499/Project/venv/lib/python3.10/site-packages/transformers/models/deberta/modeling_deberta.py?line=950'>951</a>\u001b[0m     inputs_embeds\u001b[39m=\u001b[39minputs_embeds,\n\u001b[1;32m    <a href='file:///mnt/e/Lucas/_Estudos%20IME-USP/7_Semestre/Trabalho_de_Conclus%C3%A3o_de_Curso_MAC0499/Project/venv/lib/python3.10/site-packages/transformers/models/deberta/modeling_deberta.py?line=951'>952</a>\u001b[0m )\n\u001b[0;32m--> <a href='file:///mnt/e/Lucas/_Estudos%20IME-USP/7_Semestre/Trabalho_de_Conclus%C3%A3o_de_Curso_MAC0499/Project/venv/lib/python3.10/site-packages/transformers/models/deberta/modeling_deberta.py?line=953'>954</a>\u001b[0m encoder_outputs \u001b[39m=\u001b[39m \u001b[39mself\u001b[39;49m\u001b[39m.\u001b[39;49mencoder(\n\u001b[1;32m    <a href='file:///mnt/e/Lucas/_Estudos%20IME-USP/7_Semestre/Trabalho_de_Conclus%C3%A3o_de_Curso_MAC0499/Project/venv/lib/python3.10/site-packages/transformers/models/deberta/modeling_deberta.py?line=954'>955</a>\u001b[0m     embedding_output,\n\u001b[1;32m    <a href='file:///mnt/e/Lucas/_Estudos%20IME-USP/7_Semestre/Trabalho_de_Conclus%C3%A3o_de_Curso_MAC0499/Project/venv/lib/python3.10/site-packages/transformers/models/deberta/modeling_deberta.py?line=955'>956</a>\u001b[0m     attention_mask,\n\u001b[1;32m    <a href='file:///mnt/e/Lucas/_Estudos%20IME-USP/7_Semestre/Trabalho_de_Conclus%C3%A3o_de_Curso_MAC0499/Project/venv/lib/python3.10/site-packages/transformers/models/deberta/modeling_deberta.py?line=956'>957</a>\u001b[0m     output_hidden_states\u001b[39m=\u001b[39;49m\u001b[39mTrue\u001b[39;49;00m,\n\u001b[1;32m    <a href='file:///mnt/e/Lucas/_Estudos%20IME-USP/7_Semestre/Trabalho_de_Conclus%C3%A3o_de_Curso_MAC0499/Project/venv/lib/python3.10/site-packages/transformers/models/deberta/modeling_deberta.py?line=957'>958</a>\u001b[0m     output_attentions\u001b[39m=\u001b[39;49moutput_attentions,\n\u001b[1;32m    <a href='file:///mnt/e/Lucas/_Estudos%20IME-USP/7_Semestre/Trabalho_de_Conclus%C3%A3o_de_Curso_MAC0499/Project/venv/lib/python3.10/site-packages/transformers/models/deberta/modeling_deberta.py?line=958'>959</a>\u001b[0m     return_dict\u001b[39m=\u001b[39;49mreturn_dict,\n\u001b[1;32m    <a href='file:///mnt/e/Lucas/_Estudos%20IME-USP/7_Semestre/Trabalho_de_Conclus%C3%A3o_de_Curso_MAC0499/Project/venv/lib/python3.10/site-packages/transformers/models/deberta/modeling_deberta.py?line=959'>960</a>\u001b[0m )\n\u001b[1;32m    <a href='file:///mnt/e/Lucas/_Estudos%20IME-USP/7_Semestre/Trabalho_de_Conclus%C3%A3o_de_Curso_MAC0499/Project/venv/lib/python3.10/site-packages/transformers/models/deberta/modeling_deberta.py?line=960'>961</a>\u001b[0m encoded_layers \u001b[39m=\u001b[39m encoder_outputs[\u001b[39m1\u001b[39m]\n\u001b[1;32m    <a href='file:///mnt/e/Lucas/_Estudos%20IME-USP/7_Semestre/Trabalho_de_Conclus%C3%A3o_de_Curso_MAC0499/Project/venv/lib/python3.10/site-packages/transformers/models/deberta/modeling_deberta.py?line=962'>963</a>\u001b[0m \u001b[39mif\u001b[39;00m \u001b[39mself\u001b[39m\u001b[39m.\u001b[39mz_steps \u001b[39m>\u001b[39m \u001b[39m1\u001b[39m:\n",
      "File \u001b[0;32m/mnt/e/Lucas/_Estudos IME-USP/7_Semestre/Trabalho_de_Conclusão_de_Curso_MAC0499/Project/venv/lib/python3.10/site-packages/torch/nn/modules/module.py:1110\u001b[0m, in \u001b[0;36mModule._call_impl\u001b[0;34m(self, *input, **kwargs)\u001b[0m\n\u001b[1;32m   <a href='file:///mnt/e/Lucas/_Estudos%20IME-USP/7_Semestre/Trabalho_de_Conclus%C3%A3o_de_Curso_MAC0499/Project/venv/lib/python3.10/site-packages/torch/nn/modules/module.py?line=1105'>1106</a>\u001b[0m \u001b[39m# If we don't have any hooks, we want to skip the rest of the logic in\u001b[39;00m\n\u001b[1;32m   <a href='file:///mnt/e/Lucas/_Estudos%20IME-USP/7_Semestre/Trabalho_de_Conclus%C3%A3o_de_Curso_MAC0499/Project/venv/lib/python3.10/site-packages/torch/nn/modules/module.py?line=1106'>1107</a>\u001b[0m \u001b[39m# this function, and just call forward.\u001b[39;00m\n\u001b[1;32m   <a href='file:///mnt/e/Lucas/_Estudos%20IME-USP/7_Semestre/Trabalho_de_Conclus%C3%A3o_de_Curso_MAC0499/Project/venv/lib/python3.10/site-packages/torch/nn/modules/module.py?line=1107'>1108</a>\u001b[0m \u001b[39mif\u001b[39;00m \u001b[39mnot\u001b[39;00m (\u001b[39mself\u001b[39m\u001b[39m.\u001b[39m_backward_hooks \u001b[39mor\u001b[39;00m \u001b[39mself\u001b[39m\u001b[39m.\u001b[39m_forward_hooks \u001b[39mor\u001b[39;00m \u001b[39mself\u001b[39m\u001b[39m.\u001b[39m_forward_pre_hooks \u001b[39mor\u001b[39;00m _global_backward_hooks\n\u001b[1;32m   <a href='file:///mnt/e/Lucas/_Estudos%20IME-USP/7_Semestre/Trabalho_de_Conclus%C3%A3o_de_Curso_MAC0499/Project/venv/lib/python3.10/site-packages/torch/nn/modules/module.py?line=1108'>1109</a>\u001b[0m         \u001b[39mor\u001b[39;00m _global_forward_hooks \u001b[39mor\u001b[39;00m _global_forward_pre_hooks):\n\u001b[0;32m-> <a href='file:///mnt/e/Lucas/_Estudos%20IME-USP/7_Semestre/Trabalho_de_Conclus%C3%A3o_de_Curso_MAC0499/Project/venv/lib/python3.10/site-packages/torch/nn/modules/module.py?line=1109'>1110</a>\u001b[0m     \u001b[39mreturn\u001b[39;00m forward_call(\u001b[39m*\u001b[39;49m\u001b[39minput\u001b[39;49m, \u001b[39m*\u001b[39;49m\u001b[39m*\u001b[39;49mkwargs)\n\u001b[1;32m   <a href='file:///mnt/e/Lucas/_Estudos%20IME-USP/7_Semestre/Trabalho_de_Conclus%C3%A3o_de_Curso_MAC0499/Project/venv/lib/python3.10/site-packages/torch/nn/modules/module.py?line=1110'>1111</a>\u001b[0m \u001b[39m# Do not call functions when jit is used\u001b[39;00m\n\u001b[1;32m   <a href='file:///mnt/e/Lucas/_Estudos%20IME-USP/7_Semestre/Trabalho_de_Conclus%C3%A3o_de_Curso_MAC0499/Project/venv/lib/python3.10/site-packages/torch/nn/modules/module.py?line=1111'>1112</a>\u001b[0m full_backward_hooks, non_full_backward_hooks \u001b[39m=\u001b[39m [], []\n",
      "File \u001b[0;32m/mnt/e/Lucas/_Estudos IME-USP/7_Semestre/Trabalho_de_Conclusão_de_Curso_MAC0499/Project/venv/lib/python3.10/site-packages/transformers/models/deberta/modeling_deberta.py:447\u001b[0m, in \u001b[0;36mDebertaEncoder.forward\u001b[0;34m(self, hidden_states, attention_mask, output_hidden_states, output_attentions, query_states, relative_pos, return_dict)\u001b[0m\n\u001b[1;32m    <a href='file:///mnt/e/Lucas/_Estudos%20IME-USP/7_Semestre/Trabalho_de_Conclus%C3%A3o_de_Curso_MAC0499/Project/venv/lib/python3.10/site-packages/transformers/models/deberta/modeling_deberta.py?line=437'>438</a>\u001b[0m     hidden_states \u001b[39m=\u001b[39m torch\u001b[39m.\u001b[39mutils\u001b[39m.\u001b[39mcheckpoint\u001b[39m.\u001b[39mcheckpoint(\n\u001b[1;32m    <a href='file:///mnt/e/Lucas/_Estudos%20IME-USP/7_Semestre/Trabalho_de_Conclus%C3%A3o_de_Curso_MAC0499/Project/venv/lib/python3.10/site-packages/transformers/models/deberta/modeling_deberta.py?line=438'>439</a>\u001b[0m         create_custom_forward(layer_module),\n\u001b[1;32m    <a href='file:///mnt/e/Lucas/_Estudos%20IME-USP/7_Semestre/Trabalho_de_Conclus%C3%A3o_de_Curso_MAC0499/Project/venv/lib/python3.10/site-packages/transformers/models/deberta/modeling_deberta.py?line=439'>440</a>\u001b[0m         next_kv,\n\u001b[0;32m   (...)\u001b[0m\n\u001b[1;32m    <a href='file:///mnt/e/Lucas/_Estudos%20IME-USP/7_Semestre/Trabalho_de_Conclus%C3%A3o_de_Curso_MAC0499/Project/venv/lib/python3.10/site-packages/transformers/models/deberta/modeling_deberta.py?line=443'>444</a>\u001b[0m         rel_embeddings,\n\u001b[1;32m    <a href='file:///mnt/e/Lucas/_Estudos%20IME-USP/7_Semestre/Trabalho_de_Conclus%C3%A3o_de_Curso_MAC0499/Project/venv/lib/python3.10/site-packages/transformers/models/deberta/modeling_deberta.py?line=444'>445</a>\u001b[0m     )\n\u001b[1;32m    <a href='file:///mnt/e/Lucas/_Estudos%20IME-USP/7_Semestre/Trabalho_de_Conclus%C3%A3o_de_Curso_MAC0499/Project/venv/lib/python3.10/site-packages/transformers/models/deberta/modeling_deberta.py?line=445'>446</a>\u001b[0m \u001b[39melse\u001b[39;00m:\n\u001b[0;32m--> <a href='file:///mnt/e/Lucas/_Estudos%20IME-USP/7_Semestre/Trabalho_de_Conclus%C3%A3o_de_Curso_MAC0499/Project/venv/lib/python3.10/site-packages/transformers/models/deberta/modeling_deberta.py?line=446'>447</a>\u001b[0m     hidden_states \u001b[39m=\u001b[39m layer_module(\n\u001b[1;32m    <a href='file:///mnt/e/Lucas/_Estudos%20IME-USP/7_Semestre/Trabalho_de_Conclus%C3%A3o_de_Curso_MAC0499/Project/venv/lib/python3.10/site-packages/transformers/models/deberta/modeling_deberta.py?line=447'>448</a>\u001b[0m         next_kv,\n\u001b[1;32m    <a href='file:///mnt/e/Lucas/_Estudos%20IME-USP/7_Semestre/Trabalho_de_Conclus%C3%A3o_de_Curso_MAC0499/Project/venv/lib/python3.10/site-packages/transformers/models/deberta/modeling_deberta.py?line=448'>449</a>\u001b[0m         attention_mask,\n\u001b[1;32m    <a href='file:///mnt/e/Lucas/_Estudos%20IME-USP/7_Semestre/Trabalho_de_Conclus%C3%A3o_de_Curso_MAC0499/Project/venv/lib/python3.10/site-packages/transformers/models/deberta/modeling_deberta.py?line=449'>450</a>\u001b[0m         query_states\u001b[39m=\u001b[39;49mquery_states,\n\u001b[1;32m    <a href='file:///mnt/e/Lucas/_Estudos%20IME-USP/7_Semestre/Trabalho_de_Conclus%C3%A3o_de_Curso_MAC0499/Project/venv/lib/python3.10/site-packages/transformers/models/deberta/modeling_deberta.py?line=450'>451</a>\u001b[0m         relative_pos\u001b[39m=\u001b[39;49mrelative_pos,\n\u001b[1;32m    <a href='file:///mnt/e/Lucas/_Estudos%20IME-USP/7_Semestre/Trabalho_de_Conclus%C3%A3o_de_Curso_MAC0499/Project/venv/lib/python3.10/site-packages/transformers/models/deberta/modeling_deberta.py?line=451'>452</a>\u001b[0m         rel_embeddings\u001b[39m=\u001b[39;49mrel_embeddings,\n\u001b[1;32m    <a href='file:///mnt/e/Lucas/_Estudos%20IME-USP/7_Semestre/Trabalho_de_Conclus%C3%A3o_de_Curso_MAC0499/Project/venv/lib/python3.10/site-packages/transformers/models/deberta/modeling_deberta.py?line=452'>453</a>\u001b[0m         output_attentions\u001b[39m=\u001b[39;49moutput_attentions,\n\u001b[1;32m    <a href='file:///mnt/e/Lucas/_Estudos%20IME-USP/7_Semestre/Trabalho_de_Conclus%C3%A3o_de_Curso_MAC0499/Project/venv/lib/python3.10/site-packages/transformers/models/deberta/modeling_deberta.py?line=453'>454</a>\u001b[0m     )\n\u001b[1;32m    <a href='file:///mnt/e/Lucas/_Estudos%20IME-USP/7_Semestre/Trabalho_de_Conclus%C3%A3o_de_Curso_MAC0499/Project/venv/lib/python3.10/site-packages/transformers/models/deberta/modeling_deberta.py?line=455'>456</a>\u001b[0m \u001b[39mif\u001b[39;00m output_attentions:\n\u001b[1;32m    <a href='file:///mnt/e/Lucas/_Estudos%20IME-USP/7_Semestre/Trabalho_de_Conclus%C3%A3o_de_Curso_MAC0499/Project/venv/lib/python3.10/site-packages/transformers/models/deberta/modeling_deberta.py?line=456'>457</a>\u001b[0m     hidden_states, att_m \u001b[39m=\u001b[39m hidden_states\n",
      "File \u001b[0;32m/mnt/e/Lucas/_Estudos IME-USP/7_Semestre/Trabalho_de_Conclusão_de_Curso_MAC0499/Project/venv/lib/python3.10/site-packages/torch/nn/modules/module.py:1110\u001b[0m, in \u001b[0;36mModule._call_impl\u001b[0;34m(self, *input, **kwargs)\u001b[0m\n\u001b[1;32m   <a href='file:///mnt/e/Lucas/_Estudos%20IME-USP/7_Semestre/Trabalho_de_Conclus%C3%A3o_de_Curso_MAC0499/Project/venv/lib/python3.10/site-packages/torch/nn/modules/module.py?line=1105'>1106</a>\u001b[0m \u001b[39m# If we don't have any hooks, we want to skip the rest of the logic in\u001b[39;00m\n\u001b[1;32m   <a href='file:///mnt/e/Lucas/_Estudos%20IME-USP/7_Semestre/Trabalho_de_Conclus%C3%A3o_de_Curso_MAC0499/Project/venv/lib/python3.10/site-packages/torch/nn/modules/module.py?line=1106'>1107</a>\u001b[0m \u001b[39m# this function, and just call forward.\u001b[39;00m\n\u001b[1;32m   <a href='file:///mnt/e/Lucas/_Estudos%20IME-USP/7_Semestre/Trabalho_de_Conclus%C3%A3o_de_Curso_MAC0499/Project/venv/lib/python3.10/site-packages/torch/nn/modules/module.py?line=1107'>1108</a>\u001b[0m \u001b[39mif\u001b[39;00m \u001b[39mnot\u001b[39;00m (\u001b[39mself\u001b[39m\u001b[39m.\u001b[39m_backward_hooks \u001b[39mor\u001b[39;00m \u001b[39mself\u001b[39m\u001b[39m.\u001b[39m_forward_hooks \u001b[39mor\u001b[39;00m \u001b[39mself\u001b[39m\u001b[39m.\u001b[39m_forward_pre_hooks \u001b[39mor\u001b[39;00m _global_backward_hooks\n\u001b[1;32m   <a href='file:///mnt/e/Lucas/_Estudos%20IME-USP/7_Semestre/Trabalho_de_Conclus%C3%A3o_de_Curso_MAC0499/Project/venv/lib/python3.10/site-packages/torch/nn/modules/module.py?line=1108'>1109</a>\u001b[0m         \u001b[39mor\u001b[39;00m _global_forward_hooks \u001b[39mor\u001b[39;00m _global_forward_pre_hooks):\n\u001b[0;32m-> <a href='file:///mnt/e/Lucas/_Estudos%20IME-USP/7_Semestre/Trabalho_de_Conclus%C3%A3o_de_Curso_MAC0499/Project/venv/lib/python3.10/site-packages/torch/nn/modules/module.py?line=1109'>1110</a>\u001b[0m     \u001b[39mreturn\u001b[39;00m forward_call(\u001b[39m*\u001b[39;49m\u001b[39minput\u001b[39;49m, \u001b[39m*\u001b[39;49m\u001b[39m*\u001b[39;49mkwargs)\n\u001b[1;32m   <a href='file:///mnt/e/Lucas/_Estudos%20IME-USP/7_Semestre/Trabalho_de_Conclus%C3%A3o_de_Curso_MAC0499/Project/venv/lib/python3.10/site-packages/torch/nn/modules/module.py?line=1110'>1111</a>\u001b[0m \u001b[39m# Do not call functions when jit is used\u001b[39;00m\n\u001b[1;32m   <a href='file:///mnt/e/Lucas/_Estudos%20IME-USP/7_Semestre/Trabalho_de_Conclus%C3%A3o_de_Curso_MAC0499/Project/venv/lib/python3.10/site-packages/torch/nn/modules/module.py?line=1111'>1112</a>\u001b[0m full_backward_hooks, non_full_backward_hooks \u001b[39m=\u001b[39m [], []\n",
      "File \u001b[0;32m/mnt/e/Lucas/_Estudos IME-USP/7_Semestre/Trabalho_de_Conclusão_de_Curso_MAC0499/Project/venv/lib/python3.10/site-packages/transformers/models/deberta/modeling_deberta.py:363\u001b[0m, in \u001b[0;36mDebertaLayer.forward\u001b[0;34m(self, hidden_states, attention_mask, query_states, relative_pos, rel_embeddings, output_attentions)\u001b[0m\n\u001b[1;32m    <a href='file:///mnt/e/Lucas/_Estudos%20IME-USP/7_Semestre/Trabalho_de_Conclus%C3%A3o_de_Curso_MAC0499/Project/venv/lib/python3.10/site-packages/transformers/models/deberta/modeling_deberta.py?line=360'>361</a>\u001b[0m     attention_output, att_matrix \u001b[39m=\u001b[39m attention_output\n\u001b[1;32m    <a href='file:///mnt/e/Lucas/_Estudos%20IME-USP/7_Semestre/Trabalho_de_Conclus%C3%A3o_de_Curso_MAC0499/Project/venv/lib/python3.10/site-packages/transformers/models/deberta/modeling_deberta.py?line=361'>362</a>\u001b[0m intermediate_output \u001b[39m=\u001b[39m \u001b[39mself\u001b[39m\u001b[39m.\u001b[39mintermediate(attention_output)\n\u001b[0;32m--> <a href='file:///mnt/e/Lucas/_Estudos%20IME-USP/7_Semestre/Trabalho_de_Conclus%C3%A3o_de_Curso_MAC0499/Project/venv/lib/python3.10/site-packages/transformers/models/deberta/modeling_deberta.py?line=362'>363</a>\u001b[0m layer_output \u001b[39m=\u001b[39m \u001b[39mself\u001b[39;49m\u001b[39m.\u001b[39;49moutput(intermediate_output, attention_output)\n\u001b[1;32m    <a href='file:///mnt/e/Lucas/_Estudos%20IME-USP/7_Semestre/Trabalho_de_Conclus%C3%A3o_de_Curso_MAC0499/Project/venv/lib/python3.10/site-packages/transformers/models/deberta/modeling_deberta.py?line=363'>364</a>\u001b[0m \u001b[39mif\u001b[39;00m output_attentions:\n\u001b[1;32m    <a href='file:///mnt/e/Lucas/_Estudos%20IME-USP/7_Semestre/Trabalho_de_Conclus%C3%A3o_de_Curso_MAC0499/Project/venv/lib/python3.10/site-packages/transformers/models/deberta/modeling_deberta.py?line=364'>365</a>\u001b[0m     \u001b[39mreturn\u001b[39;00m (layer_output, att_matrix)\n",
      "File \u001b[0;32m/mnt/e/Lucas/_Estudos IME-USP/7_Semestre/Trabalho_de_Conclusão_de_Curso_MAC0499/Project/venv/lib/python3.10/site-packages/torch/nn/modules/module.py:1110\u001b[0m, in \u001b[0;36mModule._call_impl\u001b[0;34m(self, *input, **kwargs)\u001b[0m\n\u001b[1;32m   <a href='file:///mnt/e/Lucas/_Estudos%20IME-USP/7_Semestre/Trabalho_de_Conclus%C3%A3o_de_Curso_MAC0499/Project/venv/lib/python3.10/site-packages/torch/nn/modules/module.py?line=1105'>1106</a>\u001b[0m \u001b[39m# If we don't have any hooks, we want to skip the rest of the logic in\u001b[39;00m\n\u001b[1;32m   <a href='file:///mnt/e/Lucas/_Estudos%20IME-USP/7_Semestre/Trabalho_de_Conclus%C3%A3o_de_Curso_MAC0499/Project/venv/lib/python3.10/site-packages/torch/nn/modules/module.py?line=1106'>1107</a>\u001b[0m \u001b[39m# this function, and just call forward.\u001b[39;00m\n\u001b[1;32m   <a href='file:///mnt/e/Lucas/_Estudos%20IME-USP/7_Semestre/Trabalho_de_Conclus%C3%A3o_de_Curso_MAC0499/Project/venv/lib/python3.10/site-packages/torch/nn/modules/module.py?line=1107'>1108</a>\u001b[0m \u001b[39mif\u001b[39;00m \u001b[39mnot\u001b[39;00m (\u001b[39mself\u001b[39m\u001b[39m.\u001b[39m_backward_hooks \u001b[39mor\u001b[39;00m \u001b[39mself\u001b[39m\u001b[39m.\u001b[39m_forward_hooks \u001b[39mor\u001b[39;00m \u001b[39mself\u001b[39m\u001b[39m.\u001b[39m_forward_pre_hooks \u001b[39mor\u001b[39;00m _global_backward_hooks\n\u001b[1;32m   <a href='file:///mnt/e/Lucas/_Estudos%20IME-USP/7_Semestre/Trabalho_de_Conclus%C3%A3o_de_Curso_MAC0499/Project/venv/lib/python3.10/site-packages/torch/nn/modules/module.py?line=1108'>1109</a>\u001b[0m         \u001b[39mor\u001b[39;00m _global_forward_hooks \u001b[39mor\u001b[39;00m _global_forward_pre_hooks):\n\u001b[0;32m-> <a href='file:///mnt/e/Lucas/_Estudos%20IME-USP/7_Semestre/Trabalho_de_Conclus%C3%A3o_de_Curso_MAC0499/Project/venv/lib/python3.10/site-packages/torch/nn/modules/module.py?line=1109'>1110</a>\u001b[0m     \u001b[39mreturn\u001b[39;00m forward_call(\u001b[39m*\u001b[39;49m\u001b[39minput\u001b[39;49m, \u001b[39m*\u001b[39;49m\u001b[39m*\u001b[39;49mkwargs)\n\u001b[1;32m   <a href='file:///mnt/e/Lucas/_Estudos%20IME-USP/7_Semestre/Trabalho_de_Conclus%C3%A3o_de_Curso_MAC0499/Project/venv/lib/python3.10/site-packages/torch/nn/modules/module.py?line=1110'>1111</a>\u001b[0m \u001b[39m# Do not call functions when jit is used\u001b[39;00m\n\u001b[1;32m   <a href='file:///mnt/e/Lucas/_Estudos%20IME-USP/7_Semestre/Trabalho_de_Conclus%C3%A3o_de_Curso_MAC0499/Project/venv/lib/python3.10/site-packages/torch/nn/modules/module.py?line=1111'>1112</a>\u001b[0m full_backward_hooks, non_full_backward_hooks \u001b[39m=\u001b[39m [], []\n",
      "File \u001b[0;32m/mnt/e/Lucas/_Estudos IME-USP/7_Semestre/Trabalho_de_Conclusão_de_Curso_MAC0499/Project/venv/lib/python3.10/site-packages/transformers/models/deberta/modeling_deberta.py:332\u001b[0m, in \u001b[0;36mDebertaOutput.forward\u001b[0;34m(self, hidden_states, input_tensor)\u001b[0m\n\u001b[1;32m    <a href='file:///mnt/e/Lucas/_Estudos%20IME-USP/7_Semestre/Trabalho_de_Conclus%C3%A3o_de_Curso_MAC0499/Project/venv/lib/python3.10/site-packages/transformers/models/deberta/modeling_deberta.py?line=329'>330</a>\u001b[0m hidden_states \u001b[39m=\u001b[39m \u001b[39mself\u001b[39m\u001b[39m.\u001b[39mdense(hidden_states)\n\u001b[1;32m    <a href='file:///mnt/e/Lucas/_Estudos%20IME-USP/7_Semestre/Trabalho_de_Conclus%C3%A3o_de_Curso_MAC0499/Project/venv/lib/python3.10/site-packages/transformers/models/deberta/modeling_deberta.py?line=330'>331</a>\u001b[0m hidden_states \u001b[39m=\u001b[39m \u001b[39mself\u001b[39m\u001b[39m.\u001b[39mdropout(hidden_states)\n\u001b[0;32m--> <a href='file:///mnt/e/Lucas/_Estudos%20IME-USP/7_Semestre/Trabalho_de_Conclus%C3%A3o_de_Curso_MAC0499/Project/venv/lib/python3.10/site-packages/transformers/models/deberta/modeling_deberta.py?line=331'>332</a>\u001b[0m hidden_states \u001b[39m=\u001b[39m \u001b[39mself\u001b[39;49m\u001b[39m.\u001b[39;49mLayerNorm(hidden_states \u001b[39m+\u001b[39;49m input_tensor)\n\u001b[1;32m    <a href='file:///mnt/e/Lucas/_Estudos%20IME-USP/7_Semestre/Trabalho_de_Conclus%C3%A3o_de_Curso_MAC0499/Project/venv/lib/python3.10/site-packages/transformers/models/deberta/modeling_deberta.py?line=332'>333</a>\u001b[0m \u001b[39mreturn\u001b[39;00m hidden_states\n",
      "File \u001b[0;32m/mnt/e/Lucas/_Estudos IME-USP/7_Semestre/Trabalho_de_Conclusão_de_Curso_MAC0499/Project/venv/lib/python3.10/site-packages/torch/nn/modules/module.py:1110\u001b[0m, in \u001b[0;36mModule._call_impl\u001b[0;34m(self, *input, **kwargs)\u001b[0m\n\u001b[1;32m   <a href='file:///mnt/e/Lucas/_Estudos%20IME-USP/7_Semestre/Trabalho_de_Conclus%C3%A3o_de_Curso_MAC0499/Project/venv/lib/python3.10/site-packages/torch/nn/modules/module.py?line=1105'>1106</a>\u001b[0m \u001b[39m# If we don't have any hooks, we want to skip the rest of the logic in\u001b[39;00m\n\u001b[1;32m   <a href='file:///mnt/e/Lucas/_Estudos%20IME-USP/7_Semestre/Trabalho_de_Conclus%C3%A3o_de_Curso_MAC0499/Project/venv/lib/python3.10/site-packages/torch/nn/modules/module.py?line=1106'>1107</a>\u001b[0m \u001b[39m# this function, and just call forward.\u001b[39;00m\n\u001b[1;32m   <a href='file:///mnt/e/Lucas/_Estudos%20IME-USP/7_Semestre/Trabalho_de_Conclus%C3%A3o_de_Curso_MAC0499/Project/venv/lib/python3.10/site-packages/torch/nn/modules/module.py?line=1107'>1108</a>\u001b[0m \u001b[39mif\u001b[39;00m \u001b[39mnot\u001b[39;00m (\u001b[39mself\u001b[39m\u001b[39m.\u001b[39m_backward_hooks \u001b[39mor\u001b[39;00m \u001b[39mself\u001b[39m\u001b[39m.\u001b[39m_forward_hooks \u001b[39mor\u001b[39;00m \u001b[39mself\u001b[39m\u001b[39m.\u001b[39m_forward_pre_hooks \u001b[39mor\u001b[39;00m _global_backward_hooks\n\u001b[1;32m   <a href='file:///mnt/e/Lucas/_Estudos%20IME-USP/7_Semestre/Trabalho_de_Conclus%C3%A3o_de_Curso_MAC0499/Project/venv/lib/python3.10/site-packages/torch/nn/modules/module.py?line=1108'>1109</a>\u001b[0m         \u001b[39mor\u001b[39;00m _global_forward_hooks \u001b[39mor\u001b[39;00m _global_forward_pre_hooks):\n\u001b[0;32m-> <a href='file:///mnt/e/Lucas/_Estudos%20IME-USP/7_Semestre/Trabalho_de_Conclus%C3%A3o_de_Curso_MAC0499/Project/venv/lib/python3.10/site-packages/torch/nn/modules/module.py?line=1109'>1110</a>\u001b[0m     \u001b[39mreturn\u001b[39;00m forward_call(\u001b[39m*\u001b[39;49m\u001b[39minput\u001b[39;49m, \u001b[39m*\u001b[39;49m\u001b[39m*\u001b[39;49mkwargs)\n\u001b[1;32m   <a href='file:///mnt/e/Lucas/_Estudos%20IME-USP/7_Semestre/Trabalho_de_Conclus%C3%A3o_de_Curso_MAC0499/Project/venv/lib/python3.10/site-packages/torch/nn/modules/module.py?line=1110'>1111</a>\u001b[0m \u001b[39m# Do not call functions when jit is used\u001b[39;00m\n\u001b[1;32m   <a href='file:///mnt/e/Lucas/_Estudos%20IME-USP/7_Semestre/Trabalho_de_Conclus%C3%A3o_de_Curso_MAC0499/Project/venv/lib/python3.10/site-packages/torch/nn/modules/module.py?line=1111'>1112</a>\u001b[0m full_backward_hooks, non_full_backward_hooks \u001b[39m=\u001b[39m [], []\n",
      "File \u001b[0;32m/mnt/e/Lucas/_Estudos IME-USP/7_Semestre/Trabalho_de_Conclusão_de_Curso_MAC0499/Project/venv/lib/python3.10/site-packages/transformers/models/deberta/modeling_deberta.py:251\u001b[0m, in \u001b[0;36mDebertaLayerNorm.forward\u001b[0;34m(self, hidden_states)\u001b[0m\n\u001b[1;32m    <a href='file:///mnt/e/Lucas/_Estudos%20IME-USP/7_Semestre/Trabalho_de_Conclus%C3%A3o_de_Curso_MAC0499/Project/venv/lib/python3.10/site-packages/transformers/models/deberta/modeling_deberta.py?line=248'>249</a>\u001b[0m hidden_states \u001b[39m=\u001b[39m (hidden_states \u001b[39m-\u001b[39m mean) \u001b[39m/\u001b[39m torch\u001b[39m.\u001b[39msqrt(variance \u001b[39m+\u001b[39m \u001b[39mself\u001b[39m\u001b[39m.\u001b[39mvariance_epsilon)\n\u001b[1;32m    <a href='file:///mnt/e/Lucas/_Estudos%20IME-USP/7_Semestre/Trabalho_de_Conclus%C3%A3o_de_Curso_MAC0499/Project/venv/lib/python3.10/site-packages/transformers/models/deberta/modeling_deberta.py?line=249'>250</a>\u001b[0m hidden_states \u001b[39m=\u001b[39m hidden_states\u001b[39m.\u001b[39mto(input_type)\n\u001b[0;32m--> <a href='file:///mnt/e/Lucas/_Estudos%20IME-USP/7_Semestre/Trabalho_de_Conclus%C3%A3o_de_Curso_MAC0499/Project/venv/lib/python3.10/site-packages/transformers/models/deberta/modeling_deberta.py?line=250'>251</a>\u001b[0m y \u001b[39m=\u001b[39m \u001b[39mself\u001b[39;49m\u001b[39m.\u001b[39;49mweight \u001b[39m*\u001b[39;49m hidden_states \u001b[39m+\u001b[39;49m \u001b[39mself\u001b[39;49m\u001b[39m.\u001b[39;49mbias\n\u001b[1;32m    <a href='file:///mnt/e/Lucas/_Estudos%20IME-USP/7_Semestre/Trabalho_de_Conclus%C3%A3o_de_Curso_MAC0499/Project/venv/lib/python3.10/site-packages/transformers/models/deberta/modeling_deberta.py?line=251'>252</a>\u001b[0m \u001b[39mreturn\u001b[39;00m y\n",
      "\u001b[0;31mRuntimeError\u001b[0m: CUDA out of memory. Tried to allocate 20.00 MiB (GPU 0; 6.00 GiB total capacity; 4.61 GiB already allocated; 0 bytes free; 4.80 GiB reserved in total by PyTorch) If reserved memory is >> allocated memory try setting max_split_size_mb to avoid fragmentation.  See documentation for Memory Management and PYTORCH_CUDA_ALLOC_CONF"
     ]
    }
   ],
   "source": [
    "model.fit(\n",
    "    train_dataloader=train_dataloader,\n",
    "    # evaluator=evaluator,\n",
    "    \n",
    "    epochs=5,\n",
    "    warmup_steps=100,\n",
    ")\n"
   ]
  },
  {
   "cell_type": "code",
   "execution_count": null,
   "metadata": {},
   "outputs": [],
   "source": []
  }
 ],
 "metadata": {
  "interpreter": {
   "hash": "d36adf45757a947aebb41e19531952e79d7da656c5a3acf675af965b060eaf9d"
  },
  "kernelspec": {
   "display_name": "Python 3.10.2 64-bit",
   "language": "python",
   "name": "python3"
  },
  "language_info": {
   "codemirror_mode": {
    "name": "ipython",
    "version": 3
   },
   "file_extension": ".py",
   "mimetype": "text/x-python",
   "name": "python",
   "nbconvert_exporter": "python",
   "pygments_lexer": "ipython3",
   "version": "3.10.2"
  },
  "orig_nbformat": 4
 },
 "nbformat": 4,
 "nbformat_minor": 2
}
