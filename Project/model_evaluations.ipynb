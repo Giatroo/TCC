{
 "cells": [
  {
   "cell_type": "code",
   "execution_count": 1,
   "metadata": {},
   "outputs": [],
   "source": [
    "from model_io import ModelIO\n",
    "from predictions_evaluator import PredictionsEvaluator\n",
    "\n",
    "model_io = ModelIO(verbose=True)\n"
   ]
  },
  {
   "cell_type": "code",
   "execution_count": 2,
   "metadata": {},
   "outputs": [
    {
     "name": "stdout",
     "output_type": "stream",
     "text": [
      "Loading model from ./models/bert_base_uncased...\n",
      "Loading model from ./models/deberta_v3_base...\n",
      "Loading model from ./models/deberta_v3_small...\n",
      "Loading model from ./models/roberta_base...\n"
     ]
    }
   ],
   "source": [
    "bert = model_io.load_model(\"bert_base_uncased\")\n",
    "deberta_base = model_io.load_model(\"deberta_v3_base\")\n",
    "deberta_small = model_io.load_model(\"deberta_v3_small\")\n",
    "roberta = model_io.load_model(\"roberta_base\")\n"
   ]
  },
  {
   "cell_type": "code",
   "execution_count": 3,
   "metadata": {},
   "outputs": [],
   "source": [
    "from dataframes_loader import DataFramesLoader\n",
    "import pandas as pd\n",
    "\n",
    "\n",
    "def transform_two_answers_per_row_to_one_answer_per_row(df):\n",
    "    dfs = list()\n",
    "    for i in range(1, 3):\n",
    "        columns = [\"comment_text\", f\"answer{i}_text\", f\"answer{i}_label\"]\n",
    "        map_columns = {\n",
    "            f\"answer{i}_text\": \"answer_text\",\n",
    "            f\"answer{i}_label\": \"answer_label\",\n",
    "        }\n",
    "        dfs.append(df[columns].rename(columns=map_columns))\n",
    "\n",
    "    return pd.concat(dfs).reset_index(drop=True)\n",
    "\n",
    "\n",
    "def get_test_df(preloaded: bool, testing_instances: int) -> pd.DataFrame:\n",
    "    df_loader = DataFramesLoader()\n",
    "    _, test_df = df_loader.get_datasets(preloaded=preloaded)\n",
    "    test_df = test_df[:testing_instances]\n",
    "    test_df = transform_two_answers_per_row_to_one_answer_per_row(test_df)\n",
    "    return test_df\n",
    "\n",
    "\n",
    "def get_X_y(df: pd.DataFrame):\n",
    "    X = df[[\"comment_text\", \"answer_text\"]].values\n",
    "    X = list(map(tuple, X))\n",
    "\n",
    "    y = df[\"answer_label\"].values\n",
    "\n",
    "    return X, y\n"
   ]
  },
  {
   "cell_type": "code",
   "execution_count": 4,
   "metadata": {},
   "outputs": [],
   "source": [
    "import os\n",
    "\n",
    "PREDICTIONS_PATH = \"predictions\"\n",
    "\n",
    "bert_pred = pd.read_pickle(\n",
    "    os.path.join(PREDICTIONS_PATH, \"bert_base_uncased.pkl\")\n",
    ")\n",
    "deberta_small_pred = pd.read_pickle(\n",
    "    os.path.join(PREDICTIONS_PATH, \"deberta_v3_small.pkl\")\n",
    ")\n",
    "deberta_base_pred = pd.read_pickle(\n",
    "    os.path.join(PREDICTIONS_PATH, \"deberta_v3_base.pkl\")\n",
    ")\n",
    "roberta_pred = pd.read_pickle(\n",
    "    os.path.join(PREDICTIONS_PATH, \"roberta_base.pkl\")\n",
    ")\n"
   ]
  },
  {
   "cell_type": "code",
   "execution_count": 5,
   "metadata": {},
   "outputs": [],
   "source": [
    "from sklearn.feature_extraction.text import CountVectorizer\n",
    "from sklearn.naive_bayes import MultinomialNB\n",
    "\n",
    "\n",
    "def get_bow_pred():\n",
    "    df_loader = DataFramesLoader()\n",
    "    train_df, test_df = df_loader.get_datasets()\n",
    "\n",
    "    texts = (\n",
    "        train_df[\"comment_text\"].values\n",
    "        + train_df[\"answer1_text\"].values\n",
    "        + train_df[\"answer2_text\"].values\n",
    "    )  # type: ignore\n",
    "\n",
    "    def concat_commend_and_answer(\n",
    "        df: pd.DataFrame, answer_number: int\n",
    "    ) -> pd.Series:\n",
    "        return df[\"comment_text\"] + \" | \" + df[f\"answer{answer_number}_text\"]\n",
    "\n",
    "    train_texts1 = concat_commend_and_answer(train_df, 1)\n",
    "    train_texts2 = concat_commend_and_answer(train_df, 2)\n",
    "    train_texts = pd.concat([train_texts1, train_texts2], ignore_index=True)\n",
    "    train_labels = pd.concat(\n",
    "        [train_df[\"answer1_label\"], train_df[\"answer2_label\"]],\n",
    "        ignore_index=True,\n",
    "    )\n",
    "\n",
    "    test_texts1 = concat_commend_and_answer(test_df, 1)\n",
    "    test_texts2 = concat_commend_and_answer(test_df, 2)\n",
    "    test_texts = pd.concat([test_texts1, test_texts2], ignore_index=True)\n",
    "    test_labels = pd.concat(\n",
    "        [test_df[\"answer1_label\"], test_df[\"answer2_label\"]], ignore_index=True\n",
    "    )\n",
    "\n",
    "    vectorizer = CountVectorizer(stop_words=\"english\")\n",
    "    model = MultinomialNB()\n",
    "\n",
    "    vectorizer = vectorizer.fit(texts)\n",
    "    model.fit(vectorizer.transform(train_texts), train_labels)\n",
    "    bow_pred = model.predict(vectorizer.transform(test_texts))\n",
    "    return bow_pred\n",
    "\n",
    "\n",
    "bow_pred = get_bow_pred()\n"
   ]
  },
  {
   "cell_type": "code",
   "execution_count": 6,
   "metadata": {},
   "outputs": [],
   "source": [
    "test_df = get_test_df(True, 200000)\n",
    "y_true = test_df[\"answer_label\"].values\n"
   ]
  },
  {
   "cell_type": "code",
   "execution_count": 7,
   "metadata": {},
   "outputs": [],
   "source": [
    "bert_mistakes = y_true != bert_pred\n",
    "roberta_mistakes = y_true != roberta_pred\n",
    "deberta_small_mistakes = y_true != deberta_small_pred\n",
    "deberta_base_mistakes = y_true != deberta_base_pred\n",
    "bow_mistakes = y_true != bow_pred\n"
   ]
  },
  {
   "cell_type": "markdown",
   "metadata": {},
   "source": [
    "## Find where BoW misses and transformers get it right\n"
   ]
  },
  {
   "cell_type": "code",
   "execution_count": 8,
   "metadata": {},
   "outputs": [],
   "source": [
    "bow_mistakes_df = test_df[bow_mistakes]\n",
    "bow_mistakes_index = bow_mistakes_df.index\n"
   ]
  },
  {
   "cell_type": "code",
   "execution_count": 9,
   "metadata": {},
   "outputs": [],
   "source": [
    "transformers_agreement = (\n",
    "    ~bert_mistakes & ~roberta_mistakes\n",
    ") & ~deberta_base_mistakes\n",
    "\n",
    "agreement_index = test_df[transformers_agreement].index\n"
   ]
  },
  {
   "cell_type": "code",
   "execution_count": 10,
   "metadata": {},
   "outputs": [
    {
     "data": {
      "text/html": [
       "<div>\n",
       "<style scoped>\n",
       "    .dataframe tbody tr th:only-of-type {\n",
       "        vertical-align: middle;\n",
       "    }\n",
       "\n",
       "    .dataframe tbody tr th {\n",
       "        vertical-align: top;\n",
       "    }\n",
       "\n",
       "    .dataframe thead th {\n",
       "        text-align: right;\n",
       "    }\n",
       "</style>\n",
       "<table border=\"1\" class=\"dataframe\">\n",
       "  <thead>\n",
       "    <tr style=\"text-align: right;\">\n",
       "      <th></th>\n",
       "      <th>comment_text</th>\n",
       "      <th>answer_text</th>\n",
       "      <th>answer_label</th>\n",
       "    </tr>\n",
       "  </thead>\n",
       "  <tbody>\n",
       "    <tr>\n",
       "      <th>4</th>\n",
       "      <td>Who else thinks that javascript alert() is an ...</td>\n",
       "      <td>It's a useful debugging tool</td>\n",
       "      <td>1</td>\n",
       "    </tr>\n",
       "    <tr>\n",
       "      <th>12</th>\n",
       "      <td>Cops Bust Into Gizmodo Editor's Home And Seize...</td>\n",
       "      <td>/Libertarian/: Where the police state is fine,...</td>\n",
       "      <td>0</td>\n",
       "    </tr>\n",
       "    <tr>\n",
       "      <th>14</th>\n",
       "      <td>Wisconsin GOP caught red handed, looking to ru...</td>\n",
       "      <td>And we're upset since the Democrats would *nev...</td>\n",
       "      <td>1</td>\n",
       "    </tr>\n",
       "    <tr>\n",
       "      <th>23</th>\n",
       "      <td>I've honestly never come across a dumber human...</td>\n",
       "      <td>TIL, voluntary slavery by starving people who'...</td>\n",
       "      <td>1</td>\n",
       "    </tr>\n",
       "    <tr>\n",
       "      <th>24</th>\n",
       "      <td>Sexual assault under broad daylight in China.</td>\n",
       "      <td>CPR fail.</td>\n",
       "      <td>0</td>\n",
       "    </tr>\n",
       "    <tr>\n",
       "      <th>...</th>\n",
       "      <td>...</td>\n",
       "      <td>...</td>\n",
       "      <td>...</td>\n",
       "    </tr>\n",
       "    <tr>\n",
       "      <th>54963</th>\n",
       "      <td>Literally every 15 seconds right now (9.18 CT)</td>\n",
       "      <td>I thought this was going to be a post about th...</td>\n",
       "      <td>0</td>\n",
       "    </tr>\n",
       "    <tr>\n",
       "      <th>54967</th>\n",
       "      <td>$499.99 Black Series 6\" scale AT-ACT will be a...</td>\n",
       "      <td>It's what the fans want!</td>\n",
       "      <td>1</td>\n",
       "    </tr>\n",
       "    <tr>\n",
       "      <th>54970</th>\n",
       "      <td>Some further attic rummaging and I came across...</td>\n",
       "      <td>Steiner!</td>\n",
       "      <td>0</td>\n",
       "    </tr>\n",
       "    <tr>\n",
       "      <th>54978</th>\n",
       "      <td>Previously unreleased FBI photo's of 9/11 Pent...</td>\n",
       "      <td>But it was a cruise missile!</td>\n",
       "      <td>1</td>\n",
       "    </tr>\n",
       "    <tr>\n",
       "      <th>54986</th>\n",
       "      <td>Please help</td>\n",
       "      <td>LePron James</td>\n",
       "      <td>0</td>\n",
       "    </tr>\n",
       "  </tbody>\n",
       "</table>\n",
       "<p>9948 rows × 3 columns</p>\n",
       "</div>"
      ],
      "text/plain": [
       "                                            comment_text  \\\n",
       "4      Who else thinks that javascript alert() is an ...   \n",
       "12     Cops Bust Into Gizmodo Editor's Home And Seize...   \n",
       "14     Wisconsin GOP caught red handed, looking to ru...   \n",
       "23     I've honestly never come across a dumber human...   \n",
       "24         Sexual assault under broad daylight in China.   \n",
       "...                                                  ...   \n",
       "54963     Literally every 15 seconds right now (9.18 CT)   \n",
       "54967  $499.99 Black Series 6\" scale AT-ACT will be a...   \n",
       "54970  Some further attic rummaging and I came across...   \n",
       "54978  Previously unreleased FBI photo's of 9/11 Pent...   \n",
       "54986                                        Please help   \n",
       "\n",
       "                                             answer_text  answer_label  \n",
       "4                           It's a useful debugging tool             1  \n",
       "12     /Libertarian/: Where the police state is fine,...             0  \n",
       "14     And we're upset since the Democrats would *nev...             1  \n",
       "23     TIL, voluntary slavery by starving people who'...             1  \n",
       "24                                             CPR fail.             0  \n",
       "...                                                  ...           ...  \n",
       "54963  I thought this was going to be a post about th...             0  \n",
       "54967                           It's what the fans want!             1  \n",
       "54970                                           Steiner!             0  \n",
       "54978                       But it was a cruise missile!             1  \n",
       "54986                                       LePron James             0  \n",
       "\n",
       "[9948 rows x 3 columns]"
      ]
     },
     "execution_count": 10,
     "metadata": {},
     "output_type": "execute_result"
    }
   ],
   "source": [
    "df = test_df.iloc[agreement_index.intersection(bow_mistakes_index), :]\n",
    "df\n"
   ]
  },
  {
   "cell_type": "code",
   "execution_count": 11,
   "metadata": {},
   "outputs": [
    {
     "name": "stdout",
     "output_type": "stream",
     "text": [
      "18.09%\n"
     ]
    }
   ],
   "source": [
    "print(f\"{len(df) / len(test_df)*100:.2f}%\")\n"
   ]
  },
  {
   "cell_type": "markdown",
   "metadata": {},
   "source": [
    "We see that in $18\\%$ of the test data set, the transformers agreed with a\n",
    "particular answer that was right and the Bag-of-Words got that answer wrong.\n",
    "\n",
    "Let's see some examples.\n"
   ]
  },
  {
   "cell_type": "code",
   "execution_count": 12,
   "metadata": {},
   "outputs": [],
   "source": [
    "def print_line(loc: int) -> None:\n",
    "    print(f\"comment: '{df.loc[loc]['comment_text']}'\")\n",
    "    print(f\"answer: '{df.loc[loc]['answer_text']}'\")\n",
    "    print(f\"label: '{df.loc[loc]['answer_label']}'\")\n"
   ]
  },
  {
   "cell_type": "code",
   "execution_count": 13,
   "metadata": {},
   "outputs": [
    {
     "name": "stdout",
     "output_type": "stream",
     "text": [
      "comment: 'Who else thinks that javascript alert() is an annoying, lazy, and ugly way to notify me of something on your site.'\n",
      "answer: 'It's a useful debugging tool'\n",
      "label: '1'\n"
     ]
    }
   ],
   "source": [
    "print_line(4)\n"
   ]
  },
  {
   "cell_type": "code",
   "execution_count": 14,
   "metadata": {},
   "outputs": [
    {
     "name": "stdout",
     "output_type": "stream",
     "text": [
      "comment: 'Pilot 'congratulates' passengers for drinking all alcohol on plane'\n",
      "answer: 'good for the pilot because that means less alcohol to weigh down the plane during landing'\n",
      "label: '1'\n"
     ]
    }
   ],
   "source": [
    "print_line(19765)\n"
   ]
  },
  {
   "cell_type": "code",
   "execution_count": 15,
   "metadata": {},
   "outputs": [
    {
     "name": "stdout",
     "output_type": "stream",
     "text": [
      "comment: 'After being down 4-1, the Ducks climb all the way back to win in overtime 5-4, taking a 3-0 series lead.'\n",
      "answer: 'SUBSCRIBE'\n",
      "label: '0'\n"
     ]
    }
   ],
   "source": [
    "print_line(29469)\n"
   ]
  },
  {
   "cell_type": "code",
   "execution_count": 16,
   "metadata": {},
   "outputs": [
    {
     "name": "stdout",
     "output_type": "stream",
     "text": [
      "comment: '\"I'm 'X' and I'm not offended!\"'\n",
      "answer: 'Even if the majority of people are offended by something, that in itself does not make that behavior unacceptable.'\n",
      "label: '0'\n"
     ]
    }
   ],
   "source": [
    "print_line(28884)\n"
   ]
  },
  {
   "cell_type": "code",
   "execution_count": 17,
   "metadata": {},
   "outputs": [
    {
     "data": {
      "text/plain": [
       "0    0.533072\n",
       "1    0.466928\n",
       "Name: answer_label, dtype: float64"
      ]
     },
     "execution_count": 17,
     "metadata": {},
     "output_type": "execute_result"
    }
   ],
   "source": [
    "df[\"answer_label\"].value_counts(normalize=True)\n"
   ]
  },
  {
   "cell_type": "markdown",
   "metadata": {},
   "source": [
    "## Find where DeBERTa gets it right and RoBERTa and BERT don't\n"
   ]
  },
  {
   "cell_type": "code",
   "execution_count": 18,
   "metadata": {},
   "outputs": [
    {
     "data": {
      "text/html": [
       "<div>\n",
       "<style scoped>\n",
       "    .dataframe tbody tr th:only-of-type {\n",
       "        vertical-align: middle;\n",
       "    }\n",
       "\n",
       "    .dataframe tbody tr th {\n",
       "        vertical-align: top;\n",
       "    }\n",
       "\n",
       "    .dataframe thead th {\n",
       "        text-align: right;\n",
       "    }\n",
       "</style>\n",
       "<table border=\"1\" class=\"dataframe\">\n",
       "  <thead>\n",
       "    <tr style=\"text-align: right;\">\n",
       "      <th></th>\n",
       "      <th>comment_text</th>\n",
       "      <th>answer_text</th>\n",
       "      <th>answer_label</th>\n",
       "    </tr>\n",
       "  </thead>\n",
       "  <tbody>\n",
       "    <tr>\n",
       "      <th>40</th>\n",
       "      <td>Athens Riots--Greek General Strike Day 2 in Pi...</td>\n",
       "      <td>Is it me, or are there a lot of photos showing...</td>\n",
       "      <td>1</td>\n",
       "    </tr>\n",
       "    <tr>\n",
       "      <th>41</th>\n",
       "      <td>Starting today, 47 million women will have acc...</td>\n",
       "      <td>WHORES!</td>\n",
       "      <td>1</td>\n",
       "    </tr>\n",
       "    <tr>\n",
       "      <th>46</th>\n",
       "      <td>Romney's Economic Plan Would Kill 360,000 Jobs...</td>\n",
       "      <td>Well, yeah, but his plan would funnel money to...</td>\n",
       "      <td>0</td>\n",
       "    </tr>\n",
       "    <tr>\n",
       "      <th>59</th>\n",
       "      <td>The Smoking Gun identifies the anti-gay Cheeri...</td>\n",
       "      <td>\"WHEN WILL THIS ANTI-CHRISTIAN BIGOTRY END????\"</td>\n",
       "      <td>1</td>\n",
       "    </tr>\n",
       "    <tr>\n",
       "      <th>89</th>\n",
       "      <td>Apparently my face is the envy of astronomers ...</td>\n",
       "      <td>He forgot to say \"no homo\".</td>\n",
       "      <td>1</td>\n",
       "    </tr>\n",
       "    <tr>\n",
       "      <th>...</th>\n",
       "      <td>...</td>\n",
       "      <td>...</td>\n",
       "      <td>...</td>\n",
       "    </tr>\n",
       "    <tr>\n",
       "      <th>54951</th>\n",
       "      <td>Christopher Nolan and Sofia Coppola urge fans ...</td>\n",
       "      <td>Are they gonna get us a babysitter?</td>\n",
       "      <td>1</td>\n",
       "    </tr>\n",
       "    <tr>\n",
       "      <th>54957</th>\n",
       "      <td>The Pegassi Collection</td>\n",
       "      <td>How is the classic was thinking of getting it !</td>\n",
       "      <td>0</td>\n",
       "    </tr>\n",
       "    <tr>\n",
       "      <th>54977</th>\n",
       "      <td>The Secrit Play of the Minnesota Timberwolves</td>\n",
       "      <td>Snitch!</td>\n",
       "      <td>1</td>\n",
       "    </tr>\n",
       "    <tr>\n",
       "      <th>54979</th>\n",
       "      <td>PETA has sent a letter to Nintendo about it's ...</td>\n",
       "      <td>I think the real shocker here is the implicati...</td>\n",
       "      <td>1</td>\n",
       "    </tr>\n",
       "    <tr>\n",
       "      <th>54988</th>\n",
       "      <td>Spoiled Kid crashes his dad's RS7 after unders...</td>\n",
       "      <td>Well if you're going to be stupid why not docu...</td>\n",
       "      <td>0</td>\n",
       "    </tr>\n",
       "  </tbody>\n",
       "</table>\n",
       "<p>1865 rows × 3 columns</p>\n",
       "</div>"
      ],
      "text/plain": [
       "                                            comment_text  \\\n",
       "40     Athens Riots--Greek General Strike Day 2 in Pi...   \n",
       "41     Starting today, 47 million women will have acc...   \n",
       "46     Romney's Economic Plan Would Kill 360,000 Jobs...   \n",
       "59     The Smoking Gun identifies the anti-gay Cheeri...   \n",
       "89     Apparently my face is the envy of astronomers ...   \n",
       "...                                                  ...   \n",
       "54951  Christopher Nolan and Sofia Coppola urge fans ...   \n",
       "54957                             The Pegassi Collection   \n",
       "54977      The Secrit Play of the Minnesota Timberwolves   \n",
       "54979  PETA has sent a letter to Nintendo about it's ...   \n",
       "54988  Spoiled Kid crashes his dad's RS7 after unders...   \n",
       "\n",
       "                                             answer_text  answer_label  \n",
       "40     Is it me, or are there a lot of photos showing...             1  \n",
       "41                                               WHORES!             1  \n",
       "46     Well, yeah, but his plan would funnel money to...             0  \n",
       "59       \"WHEN WILL THIS ANTI-CHRISTIAN BIGOTRY END????\"             1  \n",
       "89                           He forgot to say \"no homo\".             1  \n",
       "...                                                  ...           ...  \n",
       "54951                Are they gonna get us a babysitter?             1  \n",
       "54957    How is the classic was thinking of getting it !             0  \n",
       "54977                                            Snitch!             1  \n",
       "54979  I think the real shocker here is the implicati...             1  \n",
       "54988  Well if you're going to be stupid why not docu...             0  \n",
       "\n",
       "[1865 rows x 3 columns]"
      ]
     },
     "execution_count": 18,
     "metadata": {},
     "output_type": "execute_result"
    }
   ],
   "source": [
    "deberta_right_but_others_dont = (\n",
    "    bert_mistakes & roberta_mistakes\n",
    ") & ~deberta_base_mistakes\n",
    "\n",
    "df = test_df[deberta_right_but_others_dont]\n",
    "df\n"
   ]
  },
  {
   "cell_type": "code",
   "execution_count": 19,
   "metadata": {},
   "outputs": [
    {
     "name": "stdout",
     "output_type": "stream",
     "text": [
      "3.39%\n"
     ]
    }
   ],
   "source": [
    "print(f\"{len(df) / len(test_df)*100:.2f}%\")\n"
   ]
  },
  {
   "cell_type": "code",
   "execution_count": 20,
   "metadata": {},
   "outputs": [
    {
     "name": "stdout",
     "output_type": "stream",
     "text": [
      "comment: 'Nearly one in three separated UK mothers think fathers should have no say in their children's lives'\n",
      "answer: 'I should thank God every day that my ex got an abortion.'\n",
      "label: '0'\n"
     ]
    }
   ],
   "source": [
    "print_line(5591)\n"
   ]
  },
  {
   "cell_type": "code",
   "execution_count": 21,
   "metadata": {},
   "outputs": [
    {
     "name": "stdout",
     "output_type": "stream",
     "text": [
      "comment: 'BREAKING: Hurricane Matthew to bypass North Carolina due to HB2'\n",
      "answer: 'Guys stop... it wasnt funny the first 80 times the joke was made....'\n",
      "label: '0'\n"
     ]
    }
   ],
   "source": [
    "print_line(15406)\n"
   ]
  },
  {
   "cell_type": "code",
   "execution_count": 22,
   "metadata": {},
   "outputs": [
    {
     "name": "stdout",
     "output_type": "stream",
     "text": [
      "comment: 'Not the best way of asking someone out, dude.'\n",
      "answer: 'He said \"a little\"; he knows better than to ask for too much right off the bat.'\n",
      "label: '1'\n"
     ]
    }
   ],
   "source": [
    "print_line(22691)\n"
   ]
  },
  {
   "cell_type": "code",
   "execution_count": 23,
   "metadata": {},
   "outputs": [
    {
     "name": "stdout",
     "output_type": "stream",
     "text": [
      "comment: 'Christopher Nolan and Sofia Coppola urge fans to watch films in cinemas, not on streaming services.'\n",
      "answer: 'Are they gonna get us a babysitter?'\n",
      "label: '1'\n"
     ]
    }
   ],
   "source": [
    "print_line(54951)\n"
   ]
  },
  {
   "cell_type": "code",
   "execution_count": 24,
   "metadata": {},
   "outputs": [
    {
     "data": {
      "text/plain": [
       "1    0.535121\n",
       "0    0.464879\n",
       "Name: answer_label, dtype: float64"
      ]
     },
     "execution_count": 24,
     "metadata": {},
     "output_type": "execute_result"
    }
   ],
   "source": [
    "df[\"answer_label\"].value_counts(normalize=True)\n"
   ]
  },
  {
   "cell_type": "markdown",
   "metadata": {},
   "source": [
    "## Find where deberta_small didn't get it right, but base did\n"
   ]
  },
  {
   "cell_type": "code",
   "execution_count": 25,
   "metadata": {},
   "outputs": [
    {
     "data": {
      "text/html": [
       "<div>\n",
       "<style scoped>\n",
       "    .dataframe tbody tr th:only-of-type {\n",
       "        vertical-align: middle;\n",
       "    }\n",
       "\n",
       "    .dataframe tbody tr th {\n",
       "        vertical-align: top;\n",
       "    }\n",
       "\n",
       "    .dataframe thead th {\n",
       "        text-align: right;\n",
       "    }\n",
       "</style>\n",
       "<table border=\"1\" class=\"dataframe\">\n",
       "  <thead>\n",
       "    <tr style=\"text-align: right;\">\n",
       "      <th></th>\n",
       "      <th>comment_text</th>\n",
       "      <th>answer_text</th>\n",
       "      <th>answer_label</th>\n",
       "    </tr>\n",
       "  </thead>\n",
       "  <tbody>\n",
       "    <tr>\n",
       "      <th>11</th>\n",
       "      <td>Bruce Eckel is Wrong - Every time the subject ...</td>\n",
       "      <td>public interface SomeService { void provideSer...</td>\n",
       "      <td>1</td>\n",
       "    </tr>\n",
       "    <tr>\n",
       "      <th>13</th>\n",
       "      <td>How to get out of your rut.</td>\n",
       "      <td>Congratulations- you'll be homeless before you...</td>\n",
       "      <td>0</td>\n",
       "    </tr>\n",
       "    <tr>\n",
       "      <th>43</th>\n",
       "      <td>Naruto 596 on MangaPanda</td>\n",
       "      <td>In the next 10 chapters, Kakashi reveals he ha...</td>\n",
       "      <td>1</td>\n",
       "    </tr>\n",
       "    <tr>\n",
       "      <th>46</th>\n",
       "      <td>Romney's Economic Plan Would Kill 360,000 Jobs...</td>\n",
       "      <td>Well, yeah, but his plan would funnel money to...</td>\n",
       "      <td>0</td>\n",
       "    </tr>\n",
       "    <tr>\n",
       "      <th>79</th>\n",
       "      <td>Moscow bans gay pride marches for the next cen...</td>\n",
       "      <td>Lucky russians</td>\n",
       "      <td>0</td>\n",
       "    </tr>\n",
       "    <tr>\n",
       "      <th>...</th>\n",
       "      <td>...</td>\n",
       "      <td>...</td>\n",
       "      <td>...</td>\n",
       "    </tr>\n",
       "    <tr>\n",
       "      <th>54951</th>\n",
       "      <td>Christopher Nolan and Sofia Coppola urge fans ...</td>\n",
       "      <td>Are they gonna get us a babysitter?</td>\n",
       "      <td>1</td>\n",
       "    </tr>\n",
       "    <tr>\n",
       "      <th>54968</th>\n",
       "      <td>Is it just me, or does the botched Ronaldo sta...</td>\n",
       "      <td>What do you mean botched?</td>\n",
       "      <td>1</td>\n",
       "    </tr>\n",
       "    <tr>\n",
       "      <th>54975</th>\n",
       "      <td>Being fit is a fascist aesthetic</td>\n",
       "      <td>The concentration camps where just a governmen...</td>\n",
       "      <td>1</td>\n",
       "    </tr>\n",
       "    <tr>\n",
       "      <th>54977</th>\n",
       "      <td>The Secrit Play of the Minnesota Timberwolves</td>\n",
       "      <td>Snitch!</td>\n",
       "      <td>1</td>\n",
       "    </tr>\n",
       "    <tr>\n",
       "      <th>54988</th>\n",
       "      <td>Spoiled Kid crashes his dad's RS7 after unders...</td>\n",
       "      <td>Well if you're going to be stupid why not docu...</td>\n",
       "      <td>0</td>\n",
       "    </tr>\n",
       "  </tbody>\n",
       "</table>\n",
       "<p>3913 rows × 3 columns</p>\n",
       "</div>"
      ],
      "text/plain": [
       "                                            comment_text  \\\n",
       "11     Bruce Eckel is Wrong - Every time the subject ...   \n",
       "13                           How to get out of your rut.   \n",
       "43                              Naruto 596 on MangaPanda   \n",
       "46     Romney's Economic Plan Would Kill 360,000 Jobs...   \n",
       "79     Moscow bans gay pride marches for the next cen...   \n",
       "...                                                  ...   \n",
       "54951  Christopher Nolan and Sofia Coppola urge fans ...   \n",
       "54968  Is it just me, or does the botched Ronaldo sta...   \n",
       "54975                   Being fit is a fascist aesthetic   \n",
       "54977      The Secrit Play of the Minnesota Timberwolves   \n",
       "54988  Spoiled Kid crashes his dad's RS7 after unders...   \n",
       "\n",
       "                                             answer_text  answer_label  \n",
       "11     public interface SomeService { void provideSer...             1  \n",
       "13     Congratulations- you'll be homeless before you...             0  \n",
       "43     In the next 10 chapters, Kakashi reveals he ha...             1  \n",
       "46     Well, yeah, but his plan would funnel money to...             0  \n",
       "79                                        Lucky russians             0  \n",
       "...                                                  ...           ...  \n",
       "54951                Are they gonna get us a babysitter?             1  \n",
       "54968                          What do you mean botched?             1  \n",
       "54975  The concentration camps where just a governmen...             1  \n",
       "54977                                            Snitch!             1  \n",
       "54988  Well if you're going to be stupid why not docu...             0  \n",
       "\n",
       "[3913 rows x 3 columns]"
      ]
     },
     "execution_count": 25,
     "metadata": {},
     "output_type": "execute_result"
    }
   ],
   "source": [
    "deberta_base_got_right = (deberta_small_mistakes) & ~deberta_base_mistakes\n",
    "\n",
    "df = test_df[deberta_base_got_right]\n",
    "df\n"
   ]
  },
  {
   "cell_type": "code",
   "execution_count": 26,
   "metadata": {},
   "outputs": [
    {
     "data": {
      "text/html": [
       "<div>\n",
       "<style scoped>\n",
       "    .dataframe tbody tr th:only-of-type {\n",
       "        vertical-align: middle;\n",
       "    }\n",
       "\n",
       "    .dataframe tbody tr th {\n",
       "        vertical-align: top;\n",
       "    }\n",
       "\n",
       "    .dataframe thead th {\n",
       "        text-align: right;\n",
       "    }\n",
       "</style>\n",
       "<table border=\"1\" class=\"dataframe\">\n",
       "  <thead>\n",
       "    <tr style=\"text-align: right;\">\n",
       "      <th></th>\n",
       "      <th>comment_text</th>\n",
       "      <th>answer_text</th>\n",
       "      <th>answer_label</th>\n",
       "    </tr>\n",
       "  </thead>\n",
       "  <tbody>\n",
       "    <tr>\n",
       "      <th>26271</th>\n",
       "      <td>The Tampa Jewish community has raised nearly $...</td>\n",
       "      <td>but not the muslims</td>\n",
       "      <td>0</td>\n",
       "    </tr>\n",
       "    <tr>\n",
       "      <th>33925</th>\n",
       "      <td>UFC owners in advanced talks to sell business ...</td>\n",
       "      <td>Dana is denying reports of the sale via ESPN</td>\n",
       "      <td>0</td>\n",
       "    </tr>\n",
       "    <tr>\n",
       "      <th>43288</th>\n",
       "      <td>Why won't someone think of the children?</td>\n",
       "      <td>More dead babies=More dead baby jokes It's wor...</td>\n",
       "      <td>0</td>\n",
       "    </tr>\n",
       "    <tr>\n",
       "      <th>29042</th>\n",
       "      <td>Jeff just referenced Dinoflask in a BAFTA inte...</td>\n",
       "      <td>This is a great Dinoflask reference and all, b...</td>\n",
       "      <td>1</td>\n",
       "    </tr>\n",
       "  </tbody>\n",
       "</table>\n",
       "</div>"
      ],
      "text/plain": [
       "                                            comment_text  \\\n",
       "26271  The Tampa Jewish community has raised nearly $...   \n",
       "33925  UFC owners in advanced talks to sell business ...   \n",
       "43288           Why won't someone think of the children?   \n",
       "29042  Jeff just referenced Dinoflask in a BAFTA inte...   \n",
       "\n",
       "                                             answer_text  answer_label  \n",
       "26271                                but not the muslims             0  \n",
       "33925       Dana is denying reports of the sale via ESPN             0  \n",
       "43288  More dead babies=More dead baby jokes It's wor...             0  \n",
       "29042  This is a great Dinoflask reference and all, b...             1  "
      ]
     },
     "execution_count": 26,
     "metadata": {},
     "output_type": "execute_result"
    }
   ],
   "source": [
    "df.sample(4)\n"
   ]
  },
  {
   "cell_type": "code",
   "execution_count": 27,
   "metadata": {},
   "outputs": [
    {
     "name": "stdout",
     "output_type": "stream",
     "text": [
      "7.12%\n"
     ]
    }
   ],
   "source": [
    "print(f\"{len(df) / len(test_df)*100:.2f}%\")\n"
   ]
  },
  {
   "cell_type": "code",
   "execution_count": 28,
   "metadata": {},
   "outputs": [
    {
     "data": {
      "text/plain": [
       "0    0.590595\n",
       "1    0.409405\n",
       "Name: answer_label, dtype: float64"
      ]
     },
     "execution_count": 28,
     "metadata": {},
     "output_type": "execute_result"
    }
   ],
   "source": [
    "df[\"answer_label\"].value_counts(normalize=True)"
   ]
  },
  {
   "cell_type": "code",
   "execution_count": 29,
   "metadata": {},
   "outputs": [
    {
     "name": "stdout",
     "output_type": "stream",
     "text": [
      "comment: '2 years of upgrades'\n",
      "answer: 'Look at the last picture I think you left some shit on the desk there in the left side'\n",
      "label: '0'\n"
     ]
    }
   ],
   "source": [
    "print_line(19493)\n"
   ]
  },
  {
   "cell_type": "code",
   "execution_count": 30,
   "metadata": {},
   "outputs": [
    {
     "name": "stdout",
     "output_type": "stream",
     "text": [
      "comment: 'Cop Block founder Adeemo Freeman arrested on drug trafficking charges'\n",
      "answer: 'hahahahahahahahahahahahahahahahahaha'\n",
      "label: '0'\n"
     ]
    }
   ],
   "source": [
    "print_line(51762)\n"
   ]
  },
  {
   "cell_type": "code",
   "execution_count": 31,
   "metadata": {},
   "outputs": [
    {
     "name": "stdout",
     "output_type": "stream",
     "text": [
      "comment: 'Is it just me, or does the botched Ronaldo statue look more like someone more local?'\n",
      "answer: 'What do you mean botched?'\n",
      "label: '1'\n"
     ]
    }
   ],
   "source": [
    "print_line(54968)\n"
   ]
  },
  {
   "cell_type": "code",
   "execution_count": 32,
   "metadata": {},
   "outputs": [
    {
     "name": "stdout",
     "output_type": "stream",
     "text": [
      "comment: 'Being fit is a fascist aesthetic'\n",
      "answer: 'The concentration camps where just a government weight lost program gone awry'\n",
      "label: '1'\n"
     ]
    }
   ],
   "source": [
    "print_line(54975)\n"
   ]
  },
  {
   "cell_type": "code",
   "execution_count": 33,
   "metadata": {},
   "outputs": [
    {
     "name": "stdout",
     "output_type": "stream",
     "text": [
      "len(train_df)=109181 len(test_df)=27496\n"
     ]
    }
   ],
   "source": [
    "df_loader = DataFramesLoader()\n",
    "train_df, test_df = df_loader.get_datasets(preloaded=True)\n",
    "\n",
    "print(f'{len(train_df)=} {len(test_df)=}')"
   ]
  },
  {
   "cell_type": "code",
   "execution_count": 34,
   "metadata": {},
   "outputs": [
    {
     "name": "stdout",
     "output_type": "stream",
     "text": [
      "len(train_df)=218362 len(test_df)=54992\n"
     ]
    }
   ],
   "source": [
    "train_df, test_df = df_loader.get_datasets(preloaded=True)\n",
    "train_df = transform_two_answers_per_row_to_one_answer_per_row(train_df)\n",
    "test_df = transform_two_answers_per_row_to_one_answer_per_row(test_df)\n",
    "\n",
    "print(f'{len(train_df)=} {len(test_df)=}')"
   ]
  },
  {
   "cell_type": "code",
   "execution_count": 35,
   "metadata": {},
   "outputs": [
    {
     "name": "stdout",
     "output_type": "stream",
     "text": [
      "len(train_df)=20000 len(test_df)=20000\n"
     ]
    }
   ],
   "source": [
    "train_df, test_df = df_loader.get_datasets(preloaded=False)\n",
    "train_df = transform_two_answers_per_row_to_one_answer_per_row(train_df)\n",
    "test_df = transform_two_answers_per_row_to_one_answer_per_row(test_df)\n",
    "\n",
    "print(f'{len(train_df)=} {len(test_df)=}')"
   ]
  },
  {
   "cell_type": "code",
   "execution_count": null,
   "metadata": {},
   "outputs": [],
   "source": []
  }
 ],
 "metadata": {
  "kernelspec": {
   "display_name": "Python 3.10.6 ('venv': venv)",
   "language": "python",
   "name": "python3"
  },
  "language_info": {
   "codemirror_mode": {
    "name": "ipython",
    "version": 3
   },
   "file_extension": ".py",
   "mimetype": "text/x-python",
   "name": "python",
   "nbconvert_exporter": "python",
   "pygments_lexer": "ipython3",
   "version": "3.10.6"
  },
  "orig_nbformat": 4,
  "vscode": {
   "interpreter": {
    "hash": "6651cdbd61e790b9f6bfb132c50d7567926b65e70ce3ac767a8fdc084e63a10d"
   }
  }
 },
 "nbformat": 4,
 "nbformat_minor": 2
}
