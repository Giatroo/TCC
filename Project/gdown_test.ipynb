{
 "cells": [
  {
   "cell_type": "code",
   "execution_count": 1,
   "metadata": {},
   "outputs": [],
   "source": [
    "import gdown"
   ]
  },
  {
   "cell_type": "code",
   "execution_count": 3,
   "metadata": {},
   "outputs": [
    {
     "name": "stderr",
     "output_type": "stream",
     "text": [
      "Downloading...\n",
      "From: https://drive.google.com/uc?id=15G7dEnPsV1xmRlM4QqjY1c0QGLrq5FXm\n",
      "To: /mnt/d/Lucas/_Estudos IME-USP/7_Semestre/TCC/Project/train.csv\n",
      "100%|██████████| 19.6M/19.6M [00:05<00:00, 3.69MB/s]\n"
     ]
    },
    {
     "data": {
      "text/plain": [
       "'./train.csv'"
      ]
     },
     "execution_count": 3,
     "metadata": {},
     "output_type": "execute_result"
    }
   ],
   "source": [
    "download_link = 'https://drive.google.com/file/d/15G7dEnPsV1xmRlM4QqjY1c0QGLrq5FXm/view?usp=sharing'\n",
    "download_link = 'https://drive.google.com/uc?id=15G7dEnPsV1xmRlM4QqjY1c0QGLrq5FXm'\n",
    "\n",
    "gdown.download(download_link, './train.csv', quiet=False)"
   ]
  },
  {
   "cell_type": "code",
   "execution_count": null,
   "metadata": {},
   "outputs": [],
   "source": []
  }
 ],
 "metadata": {
  "interpreter": {
   "hash": "88e2d76940467514dfb1c78eb9a66bd4ee52828edf333b390ca1a7c76454c1b9"
  },
  "kernelspec": {
   "display_name": "Python 3.10.2 ('venv': venv)",
   "language": "python",
   "name": "python3"
  },
  "language_info": {
   "codemirror_mode": {
    "name": "ipython",
    "version": 3
   },
   "file_extension": ".py",
   "mimetype": "text/x-python",
   "name": "python",
   "nbconvert_exporter": "python",
   "pygments_lexer": "ipython3",
   "version": "3.10.2"
  },
  "orig_nbformat": 4
 },
 "nbformat": 4,
 "nbformat_minor": 2
}
