{
 "cells": [
  {
   "cell_type": "code",
   "execution_count": 1,
   "metadata": {},
   "outputs": [
    {
     "data": {
      "text/html": [
       "<div>\n",
       "<style scoped>\n",
       "    .dataframe tbody tr th:only-of-type {\n",
       "        vertical-align: middle;\n",
       "    }\n",
       "\n",
       "    .dataframe tbody tr th {\n",
       "        vertical-align: top;\n",
       "    }\n",
       "\n",
       "    .dataframe thead th {\n",
       "        text-align: right;\n",
       "    }\n",
       "</style>\n",
       "<table border=\"1\" class=\"dataframe\">\n",
       "  <thead>\n",
       "    <tr style=\"text-align: right;\">\n",
       "      <th></th>\n",
       "      <th>comment_text</th>\n",
       "      <th>answer1_text</th>\n",
       "      <th>answer2_text</th>\n",
       "      <th>answer1_label</th>\n",
       "      <th>answer2_label</th>\n",
       "    </tr>\n",
       "  </thead>\n",
       "  <tbody>\n",
       "    <tr>\n",
       "      <th>0</th>\n",
       "      <td>I've been searching for the answer for this fo...</td>\n",
       "      <td>Religion must have the answer</td>\n",
       "      <td>It's obviously tracks from a giant water tract...</td>\n",
       "      <td>1</td>\n",
       "      <td>0</td>\n",
       "    </tr>\n",
       "    <tr>\n",
       "      <th>1</th>\n",
       "      <td>Michael Phelps Apologizes For \"Regrettable\" Be...</td>\n",
       "      <td>Wow...he smoked pot...oh lord hes such a horri...</td>\n",
       "      <td>Wow, his girlfriend is uhm... Ah fuck it, he's...</td>\n",
       "      <td>1</td>\n",
       "      <td>0</td>\n",
       "    </tr>\n",
       "    <tr>\n",
       "      <th>2</th>\n",
       "      <td>Utah wants to create a database to track the i...</td>\n",
       "      <td>I think the government should track every morm...</td>\n",
       "      <td>Another idea from the party that wants to get ...</td>\n",
       "      <td>0</td>\n",
       "      <td>1</td>\n",
       "    </tr>\n",
       "    <tr>\n",
       "      <th>3</th>\n",
       "      <td>The Six Million Dead Jews of World War ONE!</td>\n",
       "      <td>Oh right, *both* wars were just jewish conspir...</td>\n",
       "      <td>i know this seems strange but, what if he was ...</td>\n",
       "      <td>1</td>\n",
       "      <td>0</td>\n",
       "    </tr>\n",
       "    <tr>\n",
       "      <th>4</th>\n",
       "      <td>WSJ begins the Jeb Bush campaign for 2016</td>\n",
       "      <td>Good luck with that.</td>\n",
       "      <td>time to get that shack in montana.</td>\n",
       "      <td>1</td>\n",
       "      <td>0</td>\n",
       "    </tr>\n",
       "    <tr>\n",
       "      <th>...</th>\n",
       "      <td>...</td>\n",
       "      <td>...</td>\n",
       "      <td>...</td>\n",
       "      <td>...</td>\n",
       "      <td>...</td>\n",
       "    </tr>\n",
       "    <tr>\n",
       "      <th>95</th>\n",
       "      <td>It's hard to believe that people like this sti...</td>\n",
       "      <td>Yeh, I can't believe people are still making f...</td>\n",
       "      <td>At least he had the decency to apologize.</td>\n",
       "      <td>0</td>\n",
       "      <td>1</td>\n",
       "    </tr>\n",
       "    <tr>\n",
       "      <th>96</th>\n",
       "      <td>War.</td>\n",
       "      <td>I would just like to add that attacking a retr...</td>\n",
       "      <td>The photographer is obviously a hippy with maj...</td>\n",
       "      <td>0</td>\n",
       "      <td>1</td>\n",
       "    </tr>\n",
       "    <tr>\n",
       "      <th>97</th>\n",
       "      <td>Las Vegas Mayoral Candidate Sees Own Vote Flip...</td>\n",
       "      <td>u mad?</td>\n",
       "      <td>Gee, how unusual.</td>\n",
       "      <td>0</td>\n",
       "      <td>1</td>\n",
       "    </tr>\n",
       "    <tr>\n",
       "      <th>98</th>\n",
       "      <td>Restoring a Univox Ripper - need pickup sugges...</td>\n",
       "      <td>Those pickups are great if they work.</td>\n",
       "      <td>Put in some Bareknuckle Pickups.</td>\n",
       "      <td>0</td>\n",
       "      <td>1</td>\n",
       "    </tr>\n",
       "    <tr>\n",
       "      <th>99</th>\n",
       "      <td>Wisconsin's \"WiscNet\" provides affordable netw...</td>\n",
       "      <td>I hope the national media outlets pick this on...</td>\n",
       "      <td>What you want socialized internets ?</td>\n",
       "      <td>0</td>\n",
       "      <td>1</td>\n",
       "    </tr>\n",
       "  </tbody>\n",
       "</table>\n",
       "<p>100 rows × 5 columns</p>\n",
       "</div>"
      ],
      "text/plain": [
       "                                         comment_text  \\\n",
       "0   I've been searching for the answer for this fo...   \n",
       "1   Michael Phelps Apologizes For \"Regrettable\" Be...   \n",
       "2   Utah wants to create a database to track the i...   \n",
       "3         The Six Million Dead Jews of World War ONE!   \n",
       "4           WSJ begins the Jeb Bush campaign for 2016   \n",
       "..                                                ...   \n",
       "95  It's hard to believe that people like this sti...   \n",
       "96                                               War.   \n",
       "97  Las Vegas Mayoral Candidate Sees Own Vote Flip...   \n",
       "98  Restoring a Univox Ripper - need pickup sugges...   \n",
       "99  Wisconsin's \"WiscNet\" provides affordable netw...   \n",
       "\n",
       "                                         answer1_text  \\\n",
       "0                       Religion must have the answer   \n",
       "1   Wow...he smoked pot...oh lord hes such a horri...   \n",
       "2   I think the government should track every morm...   \n",
       "3   Oh right, *both* wars were just jewish conspir...   \n",
       "4                                Good luck with that.   \n",
       "..                                                ...   \n",
       "95  Yeh, I can't believe people are still making f...   \n",
       "96  I would just like to add that attacking a retr...   \n",
       "97                                             u mad?   \n",
       "98              Those pickups are great if they work.   \n",
       "99  I hope the national media outlets pick this on...   \n",
       "\n",
       "                                         answer2_text  answer1_label  \\\n",
       "0   It's obviously tracks from a giant water tract...              1   \n",
       "1   Wow, his girlfriend is uhm... Ah fuck it, he's...              1   \n",
       "2   Another idea from the party that wants to get ...              0   \n",
       "3   i know this seems strange but, what if he was ...              1   \n",
       "4                  time to get that shack in montana.              1   \n",
       "..                                                ...            ...   \n",
       "95          At least he had the decency to apologize.              0   \n",
       "96  The photographer is obviously a hippy with maj...              0   \n",
       "97                                  Gee, how unusual.              0   \n",
       "98                   Put in some Bareknuckle Pickups.              0   \n",
       "99               What you want socialized internets ?              0   \n",
       "\n",
       "    answer2_label  \n",
       "0               0  \n",
       "1               0  \n",
       "2               1  \n",
       "3               0  \n",
       "4               0  \n",
       "..            ...  \n",
       "95              1  \n",
       "96              1  \n",
       "97              1  \n",
       "98              1  \n",
       "99              1  \n",
       "\n",
       "[100 rows x 5 columns]"
      ]
     },
     "execution_count": 1,
     "metadata": {},
     "output_type": "execute_result"
    }
   ],
   "source": [
    "from dataframes_loader import DataFramesLoader\n",
    "\n",
    "df_loader = DataFramesLoader()\n",
    "train_df, test_df = df_loader.get_datasets(preloaded=False)\n",
    "train_df\n"
   ]
  },
  {
   "cell_type": "code",
   "execution_count": 2,
   "metadata": {},
   "outputs": [
    {
     "name": "stderr",
     "output_type": "stream",
     "text": [
      "Some weights of the model checkpoint at microsoft/deberta-base were not used when initializing DebertaForSequenceClassification: ['lm_predictions.lm_head.LayerNorm.weight', 'lm_predictions.lm_head.bias', 'lm_predictions.lm_head.dense.bias', 'lm_predictions.lm_head.dense.weight', 'lm_predictions.lm_head.LayerNorm.bias']\n",
      "- This IS expected if you are initializing DebertaForSequenceClassification from the checkpoint of a model trained on another task or with another architecture (e.g. initializing a BertForSequenceClassification model from a BertForPreTraining model).\n",
      "- This IS NOT expected if you are initializing DebertaForSequenceClassification from the checkpoint of a model that you expect to be exactly identical (initializing a BertForSequenceClassification model from a BertForSequenceClassification model).\n",
      "Some weights of DebertaForSequenceClassification were not initialized from the model checkpoint at microsoft/deberta-base and are newly initialized: ['classifier.bias', 'pooler.dense.weight', 'classifier.weight', 'pooler.dense.bias']\n",
      "You should probably TRAIN this model on a down-stream task to be able to use it for predictions and inference.\n",
      "Creating dataloader: 100%|██████████| 100/100 [00:00<00:00, 14096.61it/s]\n",
      "/mnt/e/Lucas/_Estudos IME-USP/7_Semestre/Trabalho_de_Conclusão_de_Curso_MAC0499/Project/venv/lib/python3.10/site-packages/transformers/optimization.py:306: FutureWarning: This implementation of AdamW is deprecated and will be removed in a future version. Use the PyTorch implementation torch.optim.AdamW instead, or set `no_deprecation_warning=True` to disable this warning\n",
      "  warnings.warn(\n"
     ]
    },
    {
     "data": {
      "application/vnd.jupyter.widget-view+json": {
       "model_id": "07186943025e4699bee09aa1d5f0c6f2",
       "version_major": 2,
       "version_minor": 0
      },
      "text/plain": [
       "Epoch:   0%|          | 0/1 [00:00<?, ?it/s]"
      ]
     },
     "metadata": {},
     "output_type": "display_data"
    },
    {
     "data": {
      "application/vnd.jupyter.widget-view+json": {
       "model_id": "857ddbc792c740c0a12484222591fbb4",
       "version_major": 2,
       "version_minor": 0
      },
      "text/plain": [
       "Iteration:   0%|          | 0/50 [00:00<?, ?it/s]"
      ]
     },
     "metadata": {},
     "output_type": "display_data"
    }
   ],
   "source": [
    "from model_trainer import ModelTrainer\n",
    "\n",
    "trainer = ModelTrainer()\n",
    "model = trainer.train_model(\n",
    "    trainer.get_deberta, epochs=1, warmup_steps=100, preloaded_datasets=False\n",
    ")\n"
   ]
  },
  {
   "cell_type": "code",
   "execution_count": 3,
   "metadata": {},
   "outputs": [
    {
     "name": "stderr",
     "output_type": "stream",
     "text": [
      "Predicting: 100%|██████████| 100/100 [00:07<00:00, 13.17it/s]\n"
     ]
    }
   ],
   "source": [
    "from model_tester import ModelTester\n",
    "\n",
    "tester = ModelTester()\n",
    "predictions, y_true = tester.get_probabilities_and_labels(\n",
    "    model, verbose=True, preloaded_datasets=False\n",
    ")"
   ]
  },
  {
   "cell_type": "code",
   "execution_count": 4,
   "metadata": {},
   "outputs": [],
   "source": [
    "y_pred = tester.get_labels_from_probs(predictions)"
   ]
  },
  {
   "cell_type": "code",
   "execution_count": 8,
   "metadata": {},
   "outputs": [
    {
     "data": {
      "text/plain": [
       "[array([[0.4920722 , 0.50792783]], dtype=float32),\n",
       " array([[0.49218395, 0.507816  ]], dtype=float32),\n",
       " array([[0.491393  , 0.50860703]], dtype=float32),\n",
       " array([[0.49123654, 0.5087635 ]], dtype=float32),\n",
       " array([[0.49110243, 0.50889754]], dtype=float32)]"
      ]
     },
     "execution_count": 8,
     "metadata": {},
     "output_type": "execute_result"
    }
   ],
   "source": [
    "predictions[:5]"
   ]
  },
  {
   "cell_type": "code",
   "execution_count": 9,
   "metadata": {},
   "outputs": [
    {
     "data": {
      "text/plain": [
       "[1, 0, 1, 0, 1]"
      ]
     },
     "execution_count": 9,
     "metadata": {},
     "output_type": "execute_result"
    }
   ],
   "source": [
    "y_true[:5]"
   ]
  },
  {
   "cell_type": "code",
   "execution_count": 10,
   "metadata": {},
   "outputs": [
    {
     "data": {
      "text/plain": [
       "[1, 1, 1, 1, 1]"
      ]
     },
     "execution_count": 10,
     "metadata": {},
     "output_type": "execute_result"
    }
   ],
   "source": [
    "y_pred[:5]"
   ]
  },
  {
   "cell_type": "code",
   "execution_count": 12,
   "metadata": {},
   "outputs": [],
   "source": [
    "from sentence_transformers import CrossEncoder"
   ]
  },
  {
   "cell_type": "code",
   "execution_count": null,
   "metadata": {},
   "outputs": [],
   "source": [
    "CrossEncoder()"
   ]
  }
 ],
 "metadata": {
  "interpreter": {
   "hash": "6651cdbd61e790b9f6bfb132c50d7567926b65e70ce3ac767a8fdc084e63a10d"
  },
  "kernelspec": {
   "display_name": "Python 3.10.2 ('venv': venv)",
   "language": "python",
   "name": "python3"
  },
  "language_info": {
   "codemirror_mode": {
    "name": "ipython",
    "version": 3
   },
   "file_extension": ".py",
   "mimetype": "text/x-python",
   "name": "python",
   "nbconvert_exporter": "python",
   "pygments_lexer": "ipython3",
   "version": "3.10.2"
  },
  "orig_nbformat": 4
 },
 "nbformat": 4,
 "nbformat_minor": 2
}
